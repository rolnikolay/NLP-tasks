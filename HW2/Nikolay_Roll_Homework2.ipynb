{
  "nbformat": 4,
  "nbformat_minor": 0,
  "metadata": {
    "kernelspec": {
      "display_name": "Python 3",
      "language": "python",
      "name": "python3"
    },
    "language_info": {
      "codemirror_mode": {
        "name": "ipython",
        "version": 3
      },
      "file_extension": ".py",
      "mimetype": "text/x-python",
      "name": "python",
      "nbconvert_exporter": "python",
      "pygments_lexer": "ipython3",
      "version": "3.7.5"
    },
    "colab": {
      "name": "Nikolay_Roll_Homework2.ipynb",
      "provenance": []
    }
  },
  "cells": [
    {
      "cell_type": "markdown",
      "metadata": {
        "id": "3HOe1HLZR-KA",
        "colab_type": "text"
      },
      "source": [
        "## Homework 2\n",
        "### Word Embeddings\n",
        "\n",
        "Welcome to Homework 2! \n",
        "\n",
        "The homework contains several tasks. You can find the amount of points that you get for the correct solution in the task header. Maximum amount of points for each homework is _six_.\n",
        "\n",
        "The **grading** for each task is the following:\n",
        "- correct answer - **full points**\n",
        "- insufficient solution or solution resulting in the incorrect output - **half points**\n",
        "- no answer or completely wrong solution - **no points**\n",
        "\n",
        "Even if you don't know how to solve the task, we encourage you to write down your thoughts and progress and try to address the issues that stop you from completing the task.\n",
        "\n",
        "When working on the written tasks, try to make your answers short and accurate. Most of the times, it is possible to answer the question in 1-3 sentences.\n",
        "\n",
        "When writing code, make it readable. Choose appropriate names for your variables (`a = 'cat'` - not good, `word = 'cat'` - good). Avoid constructing lines of code longer than 100 characters (79 characters is ideal). If needed, provide the commentaries for your code, however, a good code should be easily readable without them :)\n",
        "\n",
        "Finally, all your answers should be written only by yourself. If you copy them from other sources it will be considered as an academic fraud. You can discuss the tasks with your classmates but each solution must be individual.\n",
        "\n",
        "<font color='red'>**Important!:**</font> **before sending your solution, do the `Kernel -> Restart & Run All` to ensure that all your code works.**"
      ]
    },
    {
      "cell_type": "markdown",
      "metadata": {
        "id": "mxaRAfrJR-KF",
        "colab_type": "text"
      },
      "source": [
        "## More than a word\n",
        "\n",
        "So far, we studied how we can represent separate words as dense vectors, also called _embeddings_. But what if we need to find similar documents? How do we represent a whole document, that can have thousands of words as a vector? \n",
        "\n",
        "In this homework, you will learn and try different techniques of document representation.\n",
        "\n",
        "But first, let's start with imports. In this homework, you are going to use [Gensim](https://radimrehurek.com/gensim/) library. The installation should not cause any troubles. However, **install Cython before installing Gensim!** This will allow Gensim to use efficient calculations and reduce the training time from several minutes to several seconds. Thus, the installation procedure should be the following:\n",
        "\n",
        "`pip install Cython`\n",
        "\n",
        "`pip install gensim`"
      ]
    },
    {
      "cell_type": "code",
      "metadata": {
        "id": "sjhfcdrIR-KG",
        "colab_type": "code",
        "colab": {}
      },
      "source": [
        "import csv\n",
        "from pathlib import Path\n",
        "from collections import namedtuple, Counter\n",
        "import numpy as np\n",
        "\n",
        "from gensim.models.doc2vec import Doc2Vec, TaggedDocument\n",
        "\n",
        "import spacy\n",
        "nlp = spacy.load('en_core_web_sm')"
      ],
      "execution_count": 0,
      "outputs": []
    },
    {
      "cell_type": "markdown",
      "metadata": {
        "id": "eehHQ5SwR-KO",
        "colab_type": "text"
      },
      "source": [
        "## Task 0. Data (0 points)\n",
        "\n",
        "Load the data and get familiar with its structure. We provided all the functions for loading the dataset.\n",
        "\n",
        "The data is a compilation of movie plot synopses from IMDb and Wikipedia. You can find the original data [here](https://www.kaggle.com/cryptexcode/mpst-movie-plot-synopses-with-tags/data#mpst_full_data.csv), as well as the paper describing it: [Kar, S., Maharjan, S., López-Monroy, A. P., & Solorio, T. (2018). MPST: A corpus of movie plot synopses with tags. arXiv preprint arXiv:1802.07858.](https://www.aclweb.org/anthology/L18-1274/).\n",
        "\n",
        "The data was modified as follows: only `title`, `plot_synopsis`, `tags`, and `split` colums were left. All the synopses were tokenize, lemmatized, cleared from the stop words with Spacy. Final data was reduced to 1000 training samples and 500 test samples.\n",
        "\n",
        "Run the cells below to load the data and see an example of the first training sample:"
      ]
    },
    {
      "cell_type": "code",
      "metadata": {
        "id": "ABrvndEtR-KP",
        "colab_type": "code",
        "colab": {}
      },
      "source": [
        "MovieInfo = namedtuple('MovieInfo', ['title', 'synopsis_preprocessed', 'synopsis_original', 'tags'])\n",
        "\n",
        "data_path = Path('movie_plots.csv')\n",
        "\n",
        "train_set, test_set = [], []\n",
        "\n",
        "with data_path.open(encoding='utf-8', newline='') as csvfile:\n",
        "    reader = csv.DictReader(csvfile)\n",
        "    for row in reader:\n",
        "        tags = [tag.strip() for tag in row['tags'].split(',')]\n",
        "        movie_info = MovieInfo(\n",
        "            row['title'], row['synopsis_preprocessed'], row['synopsis_original'], tags\n",
        "        )\n",
        "        if row['split'] == 'train':\n",
        "            train_set.append(movie_info)\n",
        "        elif row['split'] == 'test':\n",
        "            test_set.append(movie_info)"
      ],
      "execution_count": 0,
      "outputs": []
    },
    {
      "cell_type": "code",
      "metadata": {
        "id": "qkgnI80tR-KS",
        "colab_type": "code",
        "outputId": "5e77a0da-cdd4-4d17-d1da-44929d080af1",
        "colab": {
          "base_uri": "https://localhost:8080/",
          "height": 51
        }
      },
      "source": [
        "print(f\"Train set has {len(train_set)} entries\")\n",
        "print(f\"Test set has {len(test_set)} entries\")"
      ],
      "execution_count": 0,
      "outputs": [
        {
          "output_type": "stream",
          "text": [
            "Train set has 1000 entries\n",
            "Test set has 500 entries\n"
          ],
          "name": "stdout"
        }
      ]
    },
    {
      "cell_type": "code",
      "metadata": {
        "id": "PcuXr5iMR-KV",
        "colab_type": "code",
        "outputId": "85e03198-ed14-4efe-ce65-210f511cc786",
        "colab": {
          "base_uri": "https://localhost:8080/",
          "height": 258
        }
      },
      "source": [
        "print(\"Movie info example\")\n",
        "print(\"-\" * 50)\n",
        "print(\"Title:\")\n",
        "print(train_set[0].title)\n",
        "print(\"-\" * 50)\n",
        "print(\"Preprocessed synopsis:\")\n",
        "print(train_set[0].synopsis_preprocessed)\n",
        "print(\"-\" * 50)\n",
        "print(\"Original synopsis:\")\n",
        "print(train_set[0].synopsis_original)\n",
        "print(\"-\" * 50)\n",
        "print(\"Tags:\")\n",
        "print(train_set[0].tags)"
      ],
      "execution_count": 0,
      "outputs": [
        {
          "output_type": "stream",
          "text": [
            "Movie info example\n",
            "--------------------------------------------------\n",
            "Title:\n",
            "I tre volti della paura\n",
            "--------------------------------------------------\n",
            "Preprocessed synopsis:\n",
            "note synopsis orginal italian release segment certain order boris karloff introduce horror tale macabre supernatural know faces fear' telephonerosy michele mercier attractive high price parisian girl return spacious basement apartment evening immediately get beset series strange phone call caller soon identify frank ex pimp recently escape prison rosy terrified testimony land man jail look solace rosy phone lesbian lover mary lynda alfonsi woman estrange time rosy certain help mary agree come night second later frank call promise matter call protection revenge unknown rosy mary caller impersonate frank marry arrive rosy apartment soon good calm rosy nerve give panic strike woman tranquillizer put bed later night rosy sleep mary get bed pen note confession make strange phone call learn franks escape prison know rosy help explain feel way come life breakup busy write fail notice intruder apartment time frank real creep mary strangle death rosys nylon stocking sound struggle awaken rosy gasp fright murderous pimp realize kill wrong woman slowly make way rosy bed earlier night rosy place butcher knife pillow mary suggestion rosy seize knife stab frank begin strangle rosy drop knife break hysteria surround corpse lover wurdalakin 19th century russia vladimir d'urfe young nobleman long trip course journey find behead corpse knife plunge heart withdraw blade take souvenir later night vladimir stop small rural cottage ask shelter notice dagger hang wall vacant space happen fit discover vladimir surprise entrance giorgio glauco onorato explain knife belong father see day giorgio offer room young count subsequently introduce rest family wife rika dialina young son ivan giorgio young brother pietro massimo righi sister sdenka susy anderson subsequently transpire eagerly anticipate arrival father gorcha reason absence go battle outlaw dread wurdalak ali beg vladimir confuse term sdenka explain wurdalak walk cadaver feed blood living preferably close friend family member giorgio pietro certain corpse vladimir discover ali beg realize strong possibility father infect blood curse warn count leave decide stay await old mans return stroke midnight gorcha boris karloff return cottage sour demeanor unkempt appearance bode bad brother tear realize duty kill gorcha feed family love make difficult reach decision later night ivan pietro attack gorcha drain blood flee cottage giorgio stake behead pietro prevent revive wurdalak prevent ivan wife threaten commit suicide reluntantly agree bury child take necessary precaution night child rise grave beg invite cottage mother run son aid stab giorgio attempt stop greet door gorcha old man bit infect daughter law husband vladimir sdenka flee cottage run hide ruin abandon cathedral dawn break vladimir optimistic long happy life lie sdenka reluctant relinquish family tie believe mean stay family sdenka fear family confirm evening gorcha sibling abandon abby vladimir sleep sdenka lure love arm bite death awaken scream vladimir rush aid family take home force lover follow suite young nobleman find lie motionless bed sdenka awaken distinct change visible face longer caring vladimir embrace bite infect drop waterin victorian london england nurse helen chester jacqueline pierreux call large house prepare corpse elderly medium burial dress body notice elaborate diamond ring finger tempt greed nurse chester steal glass tip drop water begin splash floor assail fly doubt attract odor body unsettle pleased acquisition finish job return home small east end flat return home nurse chester assail strange event buzzing fly return continue pester light apartment sound dripping water continue maddening regularity see old womans corpse lie bed come terrified woman beg forgiveness ultimately strangle image medium hand grip throat morning concierge harriet white medin discover nurse chester body call police investigator scene gustavo de nardo quickly conclude simple case nurse chester die fright pathologist arrive scene examine body take away note sign violence small bruise left finger likely cause pry ring finger doctor make observation concierge appear distressed apparently take ring dead nurse chester distract sound fly swoop air boris karloff make final appearance gorcha ride horse conclude tale fear tell viewer careful walk home night ghost vampire fear image pull actually reveal sit prop fake horse camera crew crewman move branch simulate scene ride forest wurdalak segment\n",
            "--------------------------------------------------\n",
            "Original synopsis:\n",
            "Note: this synopsis is for the orginal Italian release with the segments in this certain order.Boris Karloff introduces three horror tales of the macabre and the supernatural known as the 'Three Faces of Fear'.THE TELEPHONERosy (Michele Mercier) is an attractive, high-priced Parisian call-girl who returns to her spacious, basement apartment after an evening out when she immediately gets beset by a series of strange phone calls. The caller soon identified himself as Frank, her ex-pimp who has recently escaped from prison. Rosy is terrified for it was her testimony that landed the man in jail. Looking for solace, Rosy phones her lesbian lover Mary (Lynda Alfonsi). The two women have been estranged for some time, but Rosy is certain that she is the only one who can help her. Mary agrees to come over that night. Seconds later, Frank calls again, promising that no matter who she calls for protection, he will have his revenge. Unknown to Rosy, Mary is the caller impersonating Frank. Marry arrives at Rosy's apartment soon after, and does her best to calm Rosy's nerves. She gives the panic-struck woman a tranquillizer and puts her to bed.Later that night as Rosy sleeps, Mary gets up out of bed, and pens a note of confession: she was the one making the strange phone calls when she learned of Franks escape from prison. Knowing that Rosy would call on her for help, she explains that she felt it was her way of coming back into her life after their breakup. While she is busy writing, she fails to notice an intruder in the apartment. This time it is Frank, for real. He creeps up behind Mary and strangles her to death with one of Rosys nylon stockings. The sound of the struggle awaken Rosy and she gasps in fright. The murderous pimp realizes that he just killed the wrong woman, and slowly makes his way to Rosy's bed. However, earlier that night, Rosy had placed a butcher knife under her pillow at Mary's suggestion. Rosy seizes the knife and stabs Frank with it as he's beginning to strangle her. Rosy drops the knife and breaks down in hysteria, surrounded by the two corpses of her former lovers.THE WURDALAKIn 19th Century Russia, Vladimir D'Urfe is a young nobleman on a long trip. During the course of his journey, he finds a beheaded corpse with a knife plunged into its heart. He withdraws the blade and takes it as a souvenir.Later that night, Vladimir stops at a small rural cottage to ask for shelter. He notices several daggers hanging up on one of the walls, and a vacant space that happens to fit the one he has discovered. Vladimir is surprised by the entrance of Giorgio (Glauco Onorato), who explains that the knife belongs to his father, who has not been seen for five days. Giorgio offers a room to the young count, and subsequently introduces him to the rest of the family: his wife (Rika Dialina), their young son Ivan, Giorgio's younger brother Pietro (Massimo Righi), and sister Sdenka (Susy Anderson). It subsequently transpires that they are eagerly anticipating the arrival of their father, Gorcha, as well as the reason for his absence: he has gone to do battle with the outlaw and dreaded wurdalak Ali Beg. Vladimir is confused by the term, and Sdenka explains that a wurdalak is a walking cadaver who feeds on the blood of the living, preferably close friends and family members. Giorgio and Pietro are certain that the corpse Vladimir had discovered is that of Ali Beg, but also realize that there is a strong possibility that their father has been infected by the blood curse too. They warn the count to leave, but he decides to stay and await the old mans return.At the stroke of midnight, Gorcha (Boris Karloff) returns to the cottage. His sour demeanor and unkempt appearance bode the worse, and the two brothers are torn: they realize that it is their duty to kill Gorcha before he feeds on the family, but their love for him makes it difficult to reach a decision. Later that night, both Ivan and Pietro are attacked by Gorcha who drains them of blood, and then flees the cottage. Giorgio stakes and beheads Pietro to prevent him from reviving as a wurdalak. But he is prevented from doing so to Ivan when his wife threatens to commit suicide. Reluntantly, he agrees to bury the child without taking the necessary precautions.That same night, the child rises from his grave and begs to be invited into the cottage. The mother runs to her son's aid, stabbing Giorgio when he attempts to stop her, only to be greeted at the front door by Gorcha. The old man bits and infects his daughter-in-law, who then does the same for her husband. Vladimir and Sdenka flee from the cottage and go on the run and hide out in the ruins of an abandoned cathedral as dawn breaks. Vladimir is optimistic that a long and happy life lies with them. But Sdenka is reluctant to relinquish her family ties. She believes that she is meant to stay with the family.Sdenka's fears about her family are confirmed when that evening, Gorcha and her siblings show up at the abandoned Abby. As Vladimir sleeps, Sdenka is lured into their loving arms where they bite to death. Awakened by her screams, Vladimir rushes to her aid, but the family has already taken her home, forcing the lover to follow suite. The young nobleman finds her, lying motionless on her bed. Sdenka awakens, and a distinct change is visible on her face. No longer caring, Vladimir embraces her, and she bites and infects him too.THE DROP OF WATERIn Victorian London, England, Nurse Helen Chester (Jacqueline Pierreux) is called to a large house to prepare the corpse of an elderly medium for her burial. As she dressed the body, she notices an elaborate diamond ring on its finger. Tempted by greed, Nurse Chester steals it. As she does, a glass tips over, and drops of water begin to splash on the floor. She is also assailed by a fly, no doubt attracted by the odor of the body. Unsettled but pleased by her acquisition, she finishes the job and returns home to her small East End flat.After returning home, Nurse Chester is assailed by strange events. The buzzing fly returns and continues to pester her. Then the lights in her apartment go out, and the sounds of the dripping water continues with maddening regularity. She sees the old womans corpse lying on her bed, and coming towards her. The terrified woman begs for forgiveness, but she ultimately strangles herself, imaging that the medium's hands are gripping her throat.The next morning, the concierge (Harriet White Medin) discovers Nurse Chester's body and calls the police. The investigator on the scene (Gustavo de Nardo) quickly concludes that its a simple case and that Nurse Chester \"died of fright\". The pathologist arrives on the scene to examine the body before it's taken away and he notes that the only sign of violence is a small bruise on her left finger, mostly likely caused when someone pried a ring from her finger. As the doctor makes this observation, the concierge appears distressed, as she has apparently took the ring from the dead Nurse Chester, and is further distracted by the sound of a fly swooping about in the air....Boris Karloff makes a final appearance as Gorcha riding on his horse as he concludes the three tales of fear and tells the viewers to be careful while walking home at night for ghosts and vampires have no fear. The image pulls back to actually reveal him sitting on a prop fake horse with a camera crew and various crewmen moving branches around to simulate the scene of riding through the forest from the Wurdalak segment.\n",
            "--------------------------------------------------\n",
            "Tags:\n",
            "['cult', 'horror', 'gothic', 'murder', 'atmospheric']\n"
          ],
          "name": "stdout"
        }
      ]
    },
    {
      "cell_type": "markdown",
      "metadata": {
        "id": "ZIQAio7RR-KZ",
        "colab_type": "text"
      },
      "source": [
        "## Task 1. TF-IDF (4 points)\n",
        "\n",
        "TF-IDF is one of the techniques to represent a text as a vector. TF-IDF means Term Frequency - Inversed Document Frequency. The hyphen between two term does not mean substraction, the terms are multiplies with each other. \n",
        "\n",
        "For this approach, we are going to create a document matrix, that is going to have a TF-IDF value for each word in every document. For each document, this value is going to be different. \n",
        "\n",
        "Let's dive into this gradually, starting with the first part - term frequency. \n",
        "\n",
        "As you might've guesses from the name, term frequency shows us how many times each word appears in a document. But just a simple counter is going to prioritize very frequent words, like `is` or `me`, so we are going to normalize it. It gives us the following formula for the term frequency:\n",
        "\n",
        "`tf(t, d) = count of t in d / number of words in d`\n",
        "\n",
        "where `t` is the term, or a word, and `d` is a document."
      ]
    },
    {
      "cell_type": "markdown",
      "metadata": {
        "id": "XXcmP45mR-Ka",
        "colab_type": "text"
      },
      "source": [
        "### Task 1.1. Build a vocab (0.5 points)\n",
        "\n",
        "Before we start let's build a vocabulary, containing all the unique words in our training set.\n",
        "\n",
        "Complete the `build_vocab()` function, so it takes a list of texts, each of them represented by a list of tokens (`texts = [['token1', 'token2', ... 'token_i'], ['token1', 'token2', ... 'token_i'], ..., ['token1', 'token2', ... 'token_i']]`) and returns a `dict` with a word as a key and its index as a number (`vocab = {'and': 0, 'me': 1, ..., 'zimbabwe': 546}`)."
      ]
    },
    {
      "cell_type": "code",
      "metadata": {
        "id": "CGmet2aJR-Kb",
        "colab_type": "code",
        "colab": {}
      },
      "source": [
        "def build_vocab(texts):\n",
        "    tokens = list(set([token for text in texts for token in text]))\n",
        "    vocab = {token: idx for idx, token in enumerate(tokens)}\n",
        "    return vocab"
      ],
      "execution_count": 0,
      "outputs": []
    },
    {
      "cell_type": "code",
      "metadata": {
        "id": "vAIStLVnR-Ke",
        "colab_type": "code",
        "colab": {}
      },
      "source": [
        "def get_preprocessed_synopses(data_set):\n",
        "    return [entry.synopsis_preprocessed.split() for entry in data_set]"
      ],
      "execution_count": 0,
      "outputs": []
    },
    {
      "cell_type": "code",
      "metadata": {
        "id": "QMim9P6HR-Kh",
        "colab_type": "code",
        "outputId": "1fe9f247-db1f-49ed-ad09-86e0125f86d4",
        "colab": {
          "base_uri": "https://localhost:8080/",
          "height": 34
        }
      },
      "source": [
        "vocab = build_vocab(get_preprocessed_synopses(train_set))\n",
        "print(\"Total length of the vocab:\", len(vocab))"
      ],
      "execution_count": 0,
      "outputs": [
        {
          "output_type": "stream",
          "text": [
            "Total length of the vocab: 33537\n"
          ],
          "name": "stdout"
        }
      ]
    },
    {
      "cell_type": "markdown",
      "metadata": {
        "id": "stAW6_pfR-Kj",
        "colab_type": "text"
      },
      "source": [
        "### Task 1.2. Count TF (1 point)\n",
        "\n",
        "With the vocabulary built, construct a term frequency matrix. This matrix should have a shape of `(number of documents, size of vocab)` and contain a count for each term. For example, is a word `cat` is seen 12 times in the document #100, you will have `tf[100, vocab['cat']] = 12`.\n",
        "\n",
        "Complete the `tf()` function below and make sure you get the correct output."
      ]
    },
    {
      "cell_type": "code",
      "metadata": {
        "id": "bCjq3am-R-Kk",
        "colab_type": "code",
        "colab": {}
      },
      "source": [
        "def tf(texts, vocab):\n",
        "    # Store the TF value here\n",
        "    tf = np.zeros((len(texts), len(vocab)))\n",
        "    \n",
        "    # Store the length of each document here\n",
        "    doc_lens = np.zeros(len(texts))\n",
        "    \n",
        "    for idx, text in enumerate(texts):\n",
        "        text_v = Counter(text)\n",
        "        for k, v in text_v.items():\n",
        "            if k in vocab:\n",
        "                doc_lens[idx] += v\n",
        "                vocab_idx = vocab[k]\n",
        "                tf[idx, vocab_idx] = v\n",
        "    \n",
        "    tf = tf / doc_lens[:, np.newaxis]\n",
        "    return tf"
      ],
      "execution_count": 0,
      "outputs": []
    },
    {
      "cell_type": "code",
      "metadata": {
        "id": "IvkgcY7AR-Ko",
        "colab_type": "code",
        "outputId": "7f3d5847-6b87-42ec-970b-87aa8b976f30",
        "colab": {
          "base_uri": "https://localhost:8080/",
          "height": 102
        }
      },
      "source": [
        "train_tf = tf(get_preprocessed_synopses(train_set), vocab)\n",
        "\n",
        "print(\"Shape of the train TF matrix should be (1000, 33537):\", train_tf.shape)\n",
        "print(\"Sum of all TFs for the first synopsis should be 1:\", np.sum(train_tf[0, :]))\n",
        "print()\n",
        "\n",
        "test_tf = tf(get_preprocessed_synopses(test_set), vocab)\n",
        "\n",
        "print(\"Shape of the train TF matrix should be (500, 33537):\", test_tf.shape)\n",
        "print(\"Sum of all TFs for the first synopsis should be 1:\", np.sum(test_tf[0, :]))"
      ],
      "execution_count": 0,
      "outputs": [
        {
          "output_type": "stream",
          "text": [
            "Shape of the train TF matrix should be (1000, 33537): (1000, 33537)\n",
            "Sum of all TFs for the first synopsis should be 1: 1.0\n",
            "\n",
            "Shape of the train TF matrix should be (500, 33537): (500, 33537)\n",
            "Sum of all TFs for the first synopsis should be 1: 1.0\n"
          ],
          "name": "stdout"
        }
      ]
    },
    {
      "cell_type": "markdown",
      "metadata": {
        "id": "-nCt_0IfR-Kq",
        "colab_type": "text"
      },
      "source": [
        "### Task 1.3. Normalize your TF (0.5 points)\n",
        "\n",
        "Good news is that we can already find similar documents with only our TF matrix! We can do it by calculating a cosine similarity between the vectors of two documents. In our case, the vectors for the documents are the rows of the TF matrix that contain the frequency value for each term. But as we learned with word embeddings, to make the cosine value be relevant, we need to normalize all the vectors, i.e. make the all of length 1.\n",
        "\n",
        "To normalize a vector, we need to divide each value by the length of the vector. Please, use the [`np.linalg.norm`](https://docs.scipy.org/doc/numpy/reference/generated/numpy.linalg.norm.html) function to find the length of the vector. Read the documentation and choose the correct `axis` value.\n",
        "\n",
        "When dividing the `tf` matrix by our lengths vector, you might want to add `[:, np.newaxis]` to avoid shape mismatching errors (see the `tf()` function).\n",
        "\n",
        "Complete the `normalize()` function below:"
      ]
    },
    {
      "cell_type": "code",
      "metadata": {
        "id": "hEJzD71fR-Ks",
        "colab_type": "code",
        "colab": {}
      },
      "source": [
        "def normalize(tf):\n",
        "    return tf / np.linalg.norm(tf, axis = 1)[:, np.newaxis]"
      ],
      "execution_count": 0,
      "outputs": []
    },
    {
      "cell_type": "code",
      "metadata": {
        "id": "czeeKhqUR-Kw",
        "colab_type": "code",
        "colab": {}
      },
      "source": [
        "train_tf_norm = normalize(train_tf)\n",
        "test_tf_norm = normalize(test_tf)"
      ],
      "execution_count": 0,
      "outputs": []
    },
    {
      "cell_type": "markdown",
      "metadata": {
        "id": "9ExUPXvXR-Kz",
        "colab_type": "text"
      },
      "source": [
        "### Task 1.4. Cosine similarity (0.5 points)\n",
        "\n",
        "Finish the `cosine_similarity()` function. It should take one vector as a `query` argument, the matrix of vectors for each document as a `pool` argument, and the number of the most similar documents to return as a `k` argument. \n",
        "\n",
        "For each document in the pool we caclulate a cosine similarity with the query, which is a dot product of the corresponding two vectors.\n",
        "\n",
        "The return value of the function should the a numpy array of length `k`, containing the indices for the most similar documents sorted in descending order, i.e. from the most similar document to the least similar one. \n",
        "\n",
        "In this fucntion you might want to use `np.argsort` and `np.dot` functions."
      ]
    },
    {
      "cell_type": "code",
      "metadata": {
        "id": "zg1Qp5WfR-K0",
        "colab_type": "code",
        "colab": {}
      },
      "source": [
        "def cosine_similarity(query, pool, k=10):\n",
        "    return np.argsort(np.dot(pool, query))[::-1][:k]"
      ],
      "execution_count": 0,
      "outputs": []
    },
    {
      "cell_type": "markdown",
      "metadata": {
        "id": "3UZH9yxJR-K4",
        "colab_type": "text"
      },
      "source": [
        "Sanity check of our `cosine_similarity()` function. We check the most similar documents to the first document in our training set. Obviously, the same document should be the most similar. \n",
        "\n",
        "The output should be something like this: `array([  0, 177, 187, 344, 407, 518, 766, 861, 255, 316], dtype=int64)`. \n",
        "\n",
        "If the first element is not `0`, it means that you did something wrong during the previous steps!"
      ]
    },
    {
      "cell_type": "code",
      "metadata": {
        "id": "G7aduwwDR-K5",
        "colab_type": "code",
        "outputId": "ea9b395d-c310-4bbe-d36f-dccb56af1b1b",
        "colab": {
          "base_uri": "https://localhost:8080/",
          "height": 34
        }
      },
      "source": [
        "cosine_similarity(train_tf_norm[0, :], train_tf_norm)"
      ],
      "execution_count": 0,
      "outputs": [
        {
          "output_type": "execute_result",
          "data": {
            "text/plain": [
              "array([  0, 177, 187, 344, 407, 518, 766, 861, 255, 316])"
            ]
          },
          "metadata": {
            "tags": []
          },
          "execution_count": 13
        }
      ]
    },
    {
      "cell_type": "markdown",
      "metadata": {
        "id": "d62xeI3OR-K9",
        "colab_type": "text"
      },
      "source": [
        "We are also going to introduce a very naive and simple method to evaluate the quality of our predictions. For each predicted text, we are going to look at its tags and mark it as correct if at least one tag in the query and prediction is the same."
      ]
    },
    {
      "cell_type": "code",
      "metadata": {
        "id": "aCyQLzMdR-K_",
        "colab_type": "code",
        "colab": {}
      },
      "source": [
        "def accuracy(pred, gold):\n",
        "    assert len(pred) == len(gold)\n",
        "    correct = 0\n",
        "    total = 0\n",
        "    for i in range(len(pred)):\n",
        "        total += 1\n",
        "        if any(x in pred[i] for x in gold[i]):\n",
        "            correct += 1\n",
        "    return correct / total"
      ],
      "execution_count": 0,
      "outputs": []
    },
    {
      "cell_type": "markdown",
      "metadata": {
        "id": "5yLCNZa3R-LD",
        "colab_type": "text"
      },
      "source": [
        "Let's see the accuracy for our TF classifier:"
      ]
    },
    {
      "cell_type": "code",
      "metadata": {
        "id": "YLuJVDdyR-LD",
        "colab_type": "code",
        "colab": {}
      },
      "source": [
        "tf_pred = []\n",
        "gold = []\n",
        "for i, test_entry in enumerate(test_tf_norm):\n",
        "    most_similar = cosine_similarity(test_entry, train_tf_norm, k=1)\n",
        "    gold.append(test_set[i].tags)\n",
        "    tf_pred.append(train_set[most_similar[0]].tags)"
      ],
      "execution_count": 0,
      "outputs": []
    },
    {
      "cell_type": "code",
      "metadata": {
        "id": "A31cQpCNR-LG",
        "colab_type": "code",
        "outputId": "3480ea38-a47d-4aab-d805-08c595a1f69d",
        "colab": {
          "base_uri": "https://localhost:8080/",
          "height": 34
        }
      },
      "source": [
        "print(accuracy(tf_pred, gold))"
      ],
      "execution_count": 0,
      "outputs": [
        {
          "output_type": "stream",
          "text": [
            "0.47\n"
          ],
          "name": "stdout"
        }
      ]
    },
    {
      "cell_type": "markdown",
      "metadata": {
        "id": "EvUTkhhRR-LJ",
        "colab_type": "text"
      },
      "source": [
        "### Task 1.5. Count DF (1 point)\n",
        "\n",
        "Let's proceed to the second part of the TF-IDF which is inversed document frequency. But before we inverse something, let's find the document frequency first. We define the document frequency as `df(t) = occurrence of t in documents`. \n",
        "\n",
        "To find it, we can use a simple but very slow approach of iterating through each document and comparing each word in it against the vocabulary. There is an alternative way to do it really fast, only using the `tf` matrix that we already constructed above. \n",
        "\n",
        "The `df()` function should return an array of length of our `vocab`, where for each respective word index, we have a value representing the number of documents with word was seen in.\n",
        "\n",
        "Try to find a `df` array with one-liner. Hint: You may want to use `np.sum()` function. Also, remember that you can use equality operators (`<`, `>`, `==`) with numpy arrays.\n",
        "\n",
        "The correct one-line solution will get 1 point, the slow iterative solution with only get 0.5 points!"
      ]
    },
    {
      "cell_type": "code",
      "metadata": {
        "id": "FzgvE0wWR-LK",
        "colab_type": "code",
        "colab": {}
      },
      "source": [
        "def df(tf):\n",
        "    return np.sum(train_tf>0, axis = 0)"
      ],
      "execution_count": 0,
      "outputs": []
    },
    {
      "cell_type": "code",
      "metadata": {
        "id": "pIQ39qUWR-LN",
        "colab_type": "code",
        "colab": {}
      },
      "source": [
        "train_df = df(train_tf)"
      ],
      "execution_count": 0,
      "outputs": []
    },
    {
      "cell_type": "markdown",
      "metadata": {
        "id": "-eiHSP8BR-LP",
        "colab_type": "text"
      },
      "source": [
        "Your `train_df` array should look like this: `array([25,  2,  6, ...,  3,  1, 31])`. You will probably have different numbers in the array since the initialization of the dictionary is different on your machine."
      ]
    },
    {
      "cell_type": "code",
      "metadata": {
        "id": "RpQKIRlaR-LR",
        "colab_type": "code",
        "outputId": "4b87f033-fcd9-45cb-f174-3e12f00da3b9",
        "colab": {
          "base_uri": "https://localhost:8080/",
          "height": 34
        }
      },
      "source": [
        "train_df"
      ],
      "execution_count": 0,
      "outputs": [
        {
          "output_type": "execute_result",
          "data": {
            "text/plain": [
              "array([ 2, 24,  1, ...,  1,  2, 10])"
            ]
          },
          "metadata": {
            "tags": []
          },
          "execution_count": 19
        }
      ]
    },
    {
      "cell_type": "markdown",
      "metadata": {
        "id": "wBnQmY60R-LT",
        "colab_type": "text"
      },
      "source": [
        "### Task 1.6. Count IDF (0.5 points)\n",
        "\n",
        "We almost finished in our journey into TF-IDF land. Let's finally calculate the inversed document frequency. The formula for it is `idf(t) = N/df` where `N` is the total number of documents and `df` is the document frequency that we calculated before. But if `N` is some really large number, our IDF term will become huge. Thus, we are going to take a `log` of it. \n",
        "\n",
        "Finally, the formula that we are going to use is: `idf(t) = log(N/(df + 1))`. `log` here is a natural logarithm, i.e. with base `e`.\n",
        "\n",
        "If we try to think what IDF does, it gives more weight to rare words in the document collection and less to the words that appear in many documents. The assumtion is that the first type of words and my characteristic of a document that the second type.\n",
        "\n",
        "The final IDF vector should be of the length of our vocabulary.\n",
        "\n",
        "Implement the `idf()` function below:"
      ]
    },
    {
      "cell_type": "code",
      "metadata": {
        "id": "ctSr2I7jR-LU",
        "colab_type": "code",
        "colab": {}
      },
      "source": [
        "def idf(texts, df):\n",
        "    return np.log(1000/(df+1))"
      ],
      "execution_count": 0,
      "outputs": []
    },
    {
      "cell_type": "code",
      "metadata": {
        "id": "lV7RoFzvR-LW",
        "colab_type": "code",
        "outputId": "6853cb23-580d-4d5e-bbd4-41506084ba13",
        "colab": {
          "base_uri": "https://localhost:8080/",
          "height": 34
        }
      },
      "source": [
        "train_idf = idf(get_preprocessed_synopses(train_set), train_df)\n",
        "print(train_idf.shape)"
      ],
      "execution_count": 0,
      "outputs": [
        {
          "output_type": "stream",
          "text": [
            "(33537,)\n"
          ],
          "name": "stdout"
        }
      ]
    },
    {
      "cell_type": "markdown",
      "metadata": {
        "id": "VHceqdhrR-LY",
        "colab_type": "text"
      },
      "source": [
        "Finally, TF-IDF is just a multiplication of two terms that we calculated before:"
      ]
    },
    {
      "cell_type": "code",
      "metadata": {
        "id": "vjaqk5rVR-La",
        "colab_type": "code",
        "colab": {}
      },
      "source": [
        "def tfidf(tf, idf):\n",
        "    return tf * idf"
      ],
      "execution_count": 0,
      "outputs": []
    },
    {
      "cell_type": "code",
      "metadata": {
        "id": "-qkNEH78R-Le",
        "colab_type": "code",
        "colab": {}
      },
      "source": [
        "train_tfidf = tfidf(train_tf, train_idf)\n",
        "train_tfidf_norm = normalize(train_tfidf)"
      ],
      "execution_count": 0,
      "outputs": []
    },
    {
      "cell_type": "markdown",
      "metadata": {
        "id": "2HwWstmQR-Lg",
        "colab_type": "text"
      },
      "source": [
        "Sanity check again. The most similar document should be `0`. If it's different, check your previous code for mistakes!"
      ]
    },
    {
      "cell_type": "code",
      "metadata": {
        "id": "45_UdZyER-Lh",
        "colab_type": "code",
        "outputId": "c7138246-f0bd-40dc-e9ec-da423d031e25",
        "colab": {
          "base_uri": "https://localhost:8080/",
          "height": 34
        }
      },
      "source": [
        "cosine_similarity(train_tfidf_norm[0, :], train_tfidf_norm)"
      ],
      "execution_count": 0,
      "outputs": [
        {
          "output_type": "execute_result",
          "data": {
            "text/plain": [
              "array([  0, 177, 344, 407, 766, 413, 860, 316, 117, 910])"
            ]
          },
          "metadata": {
            "tags": []
          },
          "execution_count": 24
        }
      ]
    },
    {
      "cell_type": "markdown",
      "metadata": {
        "id": "qOSWlUMhR-Lk",
        "colab_type": "text"
      },
      "source": [
        "Since we want to compare test texts, which are unseen, we need to have the same vocabulary size as our train matrix. Thus, we are going to calculate the TF term for each test text and we are going to use the IDF term from our training set. For now, we are just ignoring the words that are in the test set but not in the train set."
      ]
    },
    {
      "cell_type": "code",
      "metadata": {
        "id": "GaIFj9VVR-Lk",
        "colab_type": "code",
        "colab": {}
      },
      "source": [
        "test_tfidf = tfidf(test_tf, train_idf)\n",
        "test_tfidf_norm = normalize(test_tfidf)"
      ],
      "execution_count": 0,
      "outputs": []
    },
    {
      "cell_type": "code",
      "metadata": {
        "id": "-PCUsrMtR-Lo",
        "colab_type": "code",
        "outputId": "6a37a573-3893-49e1-bd74-733e6bf69f52",
        "colab": {
          "base_uri": "https://localhost:8080/",
          "height": 34
        }
      },
      "source": [
        "tfidf_pred = []\n",
        "for i, test_entry in enumerate(test_tfidf_norm):\n",
        "    most_similar = cosine_similarity(test_entry, train_tfidf_norm, k=1)\n",
        "    tfidf_pred.append(train_set[most_similar[0]].tags)\n",
        "    \n",
        "print(accuracy(tfidf_pred, gold))"
      ],
      "execution_count": 0,
      "outputs": [
        {
          "output_type": "stream",
          "text": [
            "0.476\n"
          ],
          "name": "stdout"
        }
      ]
    },
    {
      "cell_type": "markdown",
      "metadata": {
        "id": "64OqscDGR-Lq",
        "colab_type": "text"
      },
      "source": [
        "## Task 2. Doc2Vec (1 point)\n",
        "\n",
        "TF-IDF maybe a good solution for short query but it is most likely inefficient for long queries. This is because TF-IDF is a bag-of-words (BOW) algorithm. As the name suggests, all the words are just compiled in out vocabulary, like in a bag, and the order in which they appear in text does not affect the resulting vector. Thus `Mary likes John` and `John likes Mary` are going to have identical TF-IDF vectors. Another problem is that is the size of the vocabulary is large, we are going to have many zeros that don't represent anything useful. \n",
        "\n",
        "Another algorithm is Doc2Vec. This algorithm was described by the same people that invented Word2Vec in their paper [Le, Q., & Mikolov, T. (2014, January). Distributed representations of sentences and documents. In International conference on machine learning (pp. 1188-1196).](https://cs.stanford.edu/~quocle/paragraph_vector.pdf).\n",
        "\n",
        "The main idea is very similar to the Word2Vec model. Actually, the models are almost identical, with the only difference being a paragraph matrix added to the input. This matrix is going to be the embedding for the document. \n",
        "\n",
        "In this homework, we are going to train a Doc2Vec model using Gensim package.\n",
        "\n",
        "First, we need to prepare train and test sets. Train set should be a collection of `TaggedDocument` objects, that contain the text and the index of each text. This index is going to correspond to the additional paragraph matrix row, containing the document vector. The test set is just a list of texts."
      ]
    },
    {
      "cell_type": "code",
      "metadata": {
        "id": "laxnHGSIR-Lr",
        "colab_type": "code",
        "colab": {}
      },
      "source": [
        "doc2vec_train = []\n",
        "\n",
        "for i, text in enumerate(get_preprocessed_synopses(train_set)):\n",
        "    doc2vec_train.append(TaggedDocument(text, [i]))\n",
        "    \n",
        "doc2vec_test = [text for text in get_preprocessed_synopses(test_set)]"
      ],
      "execution_count": 0,
      "outputs": []
    },
    {
      "cell_type": "markdown",
      "metadata": {
        "id": "Ezy4nYMMR-Ls",
        "colab_type": "text"
      },
      "source": [
        "Next, to train the model, we just need to specify hyperparameters, build the vocabulary and run the `train()` function. \n",
        "\n",
        "Your task is to read the [Doc2Vec documentation](https://radimrehurek.com/gensim/models/doc2vec.html#gensim.models.doc2vec.Doc2Vec), [Doc2Vec tutorial](https://radimrehurek.com/gensim/auto_examples/tutorials/run_doc2vec_lee.html#sphx-glr-auto-examples-tutorials-run-doc2vec-lee-py), and the paper above. Then, find the hyperparameters that, in your opinion, suit best our dataset.\n",
        "\n",
        "**Leave the seed as 1234!**\n",
        "\n",
        "Try to achieve the accuracy > 0.55"
      ]
    },
    {
      "cell_type": "code",
      "metadata": {
        "id": "GmosJNt5R-Lt",
        "colab_type": "code",
        "colab": {}
      },
      "source": [
        "model = Doc2Vec(vector_size=50, min_count=2, epochs=40, seed=1234)"
      ],
      "execution_count": 0,
      "outputs": []
    },
    {
      "cell_type": "code",
      "metadata": {
        "id": "-8els7YcR-Lw",
        "colab_type": "code",
        "colab": {}
      },
      "source": [
        "model.build_vocab(doc2vec_train)"
      ],
      "execution_count": 0,
      "outputs": []
    },
    {
      "cell_type": "code",
      "metadata": {
        "id": "UefqqoV-R-Ly",
        "colab_type": "code",
        "colab": {}
      },
      "source": [
        "model.train(doc2vec_train, total_examples=model.corpus_count, epochs=model.epochs)"
      ],
      "execution_count": 0,
      "outputs": []
    },
    {
      "cell_type": "markdown",
      "metadata": {
        "id": "uGcic8sJR-L0",
        "colab_type": "text"
      },
      "source": [
        "Sanity check that the most similar text in the training set is the text itself. The first index should be `0`."
      ]
    },
    {
      "cell_type": "code",
      "metadata": {
        "id": "DCf_vXRnR-L1",
        "colab_type": "code",
        "outputId": "aa932f25-67b2-4f3f-e2db-96829a79f3c1",
        "colab": {
          "base_uri": "https://localhost:8080/",
          "height": 241
        }
      },
      "source": [
        "vector = model.infer_vector(doc2vec_train[0].words)\n",
        "model.docvecs.most_similar([vector])"
      ],
      "execution_count": 0,
      "outputs": [
        {
          "output_type": "stream",
          "text": [
            "/usr/local/lib/python3.6/dist-packages/gensim/matutils.py:737: FutureWarning: Conversion of the second argument of issubdtype from `int` to `np.signedinteger` is deprecated. In future, it will be treated as `np.int64 == np.dtype(int).type`.\n",
            "  if np.issubdtype(vec.dtype, np.int):\n"
          ],
          "name": "stderr"
        },
        {
          "output_type": "execute_result",
          "data": {
            "text/plain": [
              "[(0, 0.9936448931694031),\n",
              " (518, 0.588757336139679),\n",
              " (334, 0.5840656161308289),\n",
              " (935, 0.582771897315979),\n",
              " (261, 0.5634579658508301),\n",
              " (812, 0.5626147985458374),\n",
              " (960, 0.523942768573761),\n",
              " (311, 0.5197117924690247),\n",
              " (875, 0.5104385018348694),\n",
              " (315, 0.49329301714897156)]"
            ]
          },
          "metadata": {
            "tags": []
          },
          "execution_count": 31
        }
      ]
    },
    {
      "cell_type": "code",
      "metadata": {
        "id": "5O5IaVDJR-L5",
        "colab_type": "code",
        "outputId": "828d9a69-44d3-485e-f3bc-4e3d08924fa8",
        "colab": {
          "base_uri": "https://localhost:8080/",
          "height": 71
        }
      },
      "source": [
        "doc2vec_pred = []\n",
        "for i, test_entry in enumerate(doc2vec_test):\n",
        "    vector = model.infer_vector(test_entry)\n",
        "    most_similar = model.docvecs.most_similar([vector])\n",
        "    doc2vec_pred.append(train_set[most_similar[0][0]].tags)"
      ],
      "execution_count": 0,
      "outputs": [
        {
          "output_type": "stream",
          "text": [
            "/usr/local/lib/python3.6/dist-packages/gensim/matutils.py:737: FutureWarning: Conversion of the second argument of issubdtype from `int` to `np.signedinteger` is deprecated. In future, it will be treated as `np.int64 == np.dtype(int).type`.\n",
            "  if np.issubdtype(vec.dtype, np.int):\n"
          ],
          "name": "stderr"
        }
      ]
    },
    {
      "cell_type": "markdown",
      "metadata": {
        "id": "13E282oER-L7",
        "colab_type": "text"
      },
      "source": [
        "Try to achieve the accuracy > 0.55"
      ]
    },
    {
      "cell_type": "code",
      "metadata": {
        "id": "2NG3tgDRR-L7",
        "colab_type": "code",
        "outputId": "2dd806ed-c573-4728-a1be-c6c37934506c",
        "colab": {
          "base_uri": "https://localhost:8080/",
          "height": 34
        }
      },
      "source": [
        "print(accuracy(doc2vec_pred, gold))"
      ],
      "execution_count": 0,
      "outputs": [
        {
          "output_type": "stream",
          "text": [
            "0.608\n"
          ],
          "name": "stdout"
        }
      ]
    },
    {
      "cell_type": "markdown",
      "metadata": {
        "id": "-yogrWo-R-L9",
        "colab_type": "text"
      },
      "source": [
        "### Task 3. Write your own plot (1 point)\n",
        "\n",
        "Try to come up with your own movie plot. Then run three different algorithms (TF, TF-IDF, Doc2Vec) to find similar plots from the collection. Your plot should not be very long, three sentences should be enough unless your imagination strives for more :)\n",
        "\n",
        "Answer the following question:\n",
        "\n",
        "**In your opinion, which algorithm performed better in this task? Explain your choice.**\n",
        "\n",
        "<font color='green'>As I decided to stick to \"The Last Meow\", I found that TF-IDF (2nd option) generates results which are the closest to the given plot. It has caught the genre and topic about cat better than TF and Doc2Vec. For example in TF-IDF there are 2/3 candidates which contain the word \"cat/cats\". Seems like the TF-IDF takes benefit of focusing on speicifc words (aspect-based, in some sense).</font>"
      ]
    },
    {
      "cell_type": "code",
      "metadata": {
        "id": "lGmi9EBwR-L-",
        "colab_type": "code",
        "colab": {}
      },
      "source": [
        "# Put your title here\n",
        "my_title = \"The Last Meow\"\n",
        "\n",
        "# Put your plot here\n",
        "my_plot = \"\"\"It's been a long time since humans think they rule over the cats. \n",
        "They've been teasing and humiliating them for too long. \n",
        "Now, the time has come for the cat army to rise and destroy the humanity once and for all.\"\"\" "
      ],
      "execution_count": 0,
      "outputs": []
    },
    {
      "cell_type": "code",
      "metadata": {
        "id": "_-XY4Xl-R-MC",
        "colab_type": "code",
        "colab": {}
      },
      "source": [
        "def preprocess(text):\n",
        "    doc = nlp(text)\n",
        "    preprocessed_text = synopsis = [token.lemma_.lower() for sent in doc.sents for token in sent \n",
        "                                    if not token.is_stop and not token.is_punct and not token.is_space]\n",
        "    return preprocessed_text"
      ],
      "execution_count": 0,
      "outputs": []
    },
    {
      "cell_type": "code",
      "metadata": {
        "id": "RttsLsnsR-MJ",
        "colab_type": "code",
        "colab": {}
      },
      "source": [
        "plot_preprocessed = preprocess(my_plot)"
      ],
      "execution_count": 0,
      "outputs": []
    },
    {
      "cell_type": "code",
      "metadata": {
        "id": "l8hLQZgGR-ML",
        "colab_type": "code",
        "colab": {}
      },
      "source": [
        "my_plot_tf = tf([plot_preprocessed], vocab)"
      ],
      "execution_count": 0,
      "outputs": []
    },
    {
      "cell_type": "code",
      "metadata": {
        "id": "YxKrwJzmR-MN",
        "colab_type": "code",
        "outputId": "d3c0af39-71a9-4d85-9eaa-0731aced8473",
        "colab": {
          "base_uri": "https://localhost:8080/",
          "height": 462
        }
      },
      "source": [
        "print(\"Similar plots by TF:\\n\")\n",
        "print(\"Author's title:\", my_title)\n",
        "print(\"Author's plot:\", my_plot)\n",
        "print(\"-\" * 50)\n",
        "for idx in cosine_similarity(normalize(my_plot_tf)[0], train_tf_norm, k=3):\n",
        "    print(f'Candidate {idx}:')\n",
        "    title = train_set[idx].title\n",
        "    print('Title:', title)\n",
        "    plot = train_set[idx].synopsis_original\n",
        "    print('Plot:', plot)\n",
        "    tags = train_set[idx].tags\n",
        "    print('Tags:', tags)\n",
        "    print(\"-\" * 50)"
      ],
      "execution_count": 0,
      "outputs": [
        {
          "output_type": "stream",
          "text": [
            "Similar plots by TF:\n",
            "\n",
            "Author's title: The Last Meow\n",
            "Author's plot: It's been a long time since humans think they rule over the cats. \n",
            "They've been teasing and humiliating them for too long. \n",
            "Now, the time has come for the cat army to rise and destroy the humanity once and for all.\n",
            "--------------------------------------------------\n",
            "Candidate 376:\n",
            "Title: A Sound of Thunder\n",
            "Plot: In Chicago, 2055, the Time Safari company offers the ability for people to hunt dinosaurs in the past via time travel technology. As a precaution against the potential change of the past, the company preys only on the dinosaurs who would otherwise die of natural causes and keeps the clients from stepping off the designated path. Because of the dangers of interfering with the time line, the company's activities are vocally attacked by Sonia Rand, the developer of the time machine software TAMI, who feels scorned for not receiving credit and fears they may alter the past through their activities.\n",
            "A trip with clients Eckels and Middleton goes afoul when the gun carried by team leader Travis Ryer fails to go off. The dinosaur, an Allosaurus, rushes the group, scattering the clients. Ryer kills the dinosaur, regroups the clients and returns to 2055, unaware that Middleton had stepped on a butterfly. The next day, they hear reports of global increases in temperature and humidity, and Ryer observes a sudden increase in plant life. On their next trip, they find that the Allosaurus they intend to hunt is already dead when they arrive and the volcano erupting much sooner. They quickly return and report the changes, and the government shuts down Time Safari to investigate. Ryer learns from Rand they are being struck by \"time waves\" that cause drastic alterations to the city as they pass due to something that happened on a previous expedition. Ryer and Rand narrowly escape a building after a time wave causes the appearance of thousands of beetles and a tree bursting through its structure. Rand warns that more time waves can be expected, and each will affect more advanced life forms, people being the last.\n",
            "They return to Time Safari to try to fix what has gone wrong along with the government. They are struck by another time wave that leaves the city without power and now covered by dense vegetation. Evaluating the machine's logs, they find that the Eckels/Middleton expedition had come back a few grams heavier and that the bio-filter was turned off. They recognize that they can use the time machine to go back to intercept their past selves so as to prevent whatever happened, but will only have a few seconds to act, and so must work to figure out who they need to stop. The Time Safari finds their equipment and gear free of anything, so Ryer and Rand lead a group through the city - now filled with evolved and deadly Baboonlizards and other new hazards that kill some of their party members - to find Eckels and Middleton. Eckels is safe but asserts he remained on the path, while Middleton, poisoned by the new wildlife, takes his life before they can stop him. However, they are able to find a dead butterfly on the sole of the suit he used for the safari. The party makes it back to Time Safari after more time waves hit, now finding the time machine partially underwater and unusable. Rand obtains the hard drive containing the TAMI software with plans to use it with the nearby university's particle accelerator as a substitute time machine.\n",
            "Ryer and Rand are the only two survivors once they finally make it to the university, Rand noted that the appearance of simian-like Babboonlizards from the latest time wave means the next one will wipe away humanity. Rand prepares the accelerator and stays behind while Ryer goes through the time portal, just as the last time wave hits turning Rand into a humanoid catfish-like creature. Ryer catches up to the previous expedition, catches Middleton to prevent him stepping on the butterfly, tells Jenny the bio-filter is off at the same time asking her to give his earlier self a recording of the events he has witnessed. The expedition returns without incident to the future they had left. Ryer shares the footage with Rand.\n",
            "Tags: ['alternate reality', 'stupid', 'boring', 'flashback']\n",
            "--------------------------------------------------\n",
            "Candidate 59:\n",
            "Title: In Time\n",
            "Plot: A voiceover describes the state of the world. A place where time has become currency. Thanks to scientific advances people can stop aging at 25, but it comes with a catch: after reaching 25 a person is genetically-engineered to live only one more year. The time is used as currency, you can earn more at work but you sell it for goods and other services. Once your time runs out, you die.Will Salas (Justin Timberlake) is a young man living in Dayton, a poor ghetto in the southwest USA. He lives day by day, making just enough to pass each day sharing time currency with his perpetually youthful mother, Rachel Salas (Olivia Wilde). She is 50 today, but has two days work in the garment district, she gives Will 30 mins for lunch. They will celebrate when she gets back. Everyone has a luminous green digital clock on their arms, counting down. Will is generous and easily gives 5 mins to a young beggar girl, Maya.On the way to work he buys a coffee, the price has just gone up. Walking to work they see dead bodies in the streets. Will works in a metal stamping plant, making shiny cassettes. After his shift he notices he is paid less, quotas have gone up. Will meets his friend Borel (Johnny Galecki) at a bar. There they see a man treating everyone to drinks and drawing attention to his arm, which lists him as having over 116 years. Will knows that the man did not belong to the ghetto and was likely to draw attention to himself. Sure enough the Minutemen, a criminal gang, shows up, armed and ready to forcibly take the man's time. The gang leader, Fortis (Alex Pettyfer) is actually age 75. Borel and the rest of the bar scatter but Will interferes and helps the man escape. The two flee from the Minutemen and eventually find an old building to hide in. The man introduces himself as Henry Hamilton (Matt Bomer) and tells Will of the time-is-currency system. It had been established as a means of population control after the advances made in anti-aging processes, but as people were still surviving. Inflation and lower 'wages' were designed to keep the population in control. This currency system also meant that the rich could live much longer then normal and essentially become immortal, while the poor died. Henry however is tired of living for so long, an indignant Will tells him that the rich basically did not deserve their time. He tells Henry he doesn't want his time. Unwilling to abandon the depressed man, Will offers to stay with the man until the morning. At dawn, Henry passes his time to a sleeping Will.Will wakes alone, with the 116 years of time and a message telling him not to waste it. Through a window, Will sees Henry seated on the edge of the bridge and realizes the man plans to commit suicide. He runs out to stop him, but just misses him as Henry's time runs out and he falls into the storm water channel. Will sees street cameras recording him and runs back home.Will meets Borel with his family, and shows him his new time. To thank Borel for being his friend for so long, Will gives him a decade. Borel warns him that staying in Dayton with that much time was going to get him killed. Will wants to take his mom to New Greenwich.Rachel pays off a 2 day loan at a Weis ATM machine. Sh tries to board a bus to get home but the fare has gone up to 2 hours and she has only 90 mins left. In a panic she has to run. Will is waiting at the bus stop, realizes something is wrong and runs toward Rachel. They meet somewhere in between, but too late, the mother dying in the son's arms. Later Will calls a private stretch Lincoln limo to pick him up and take him to a richer Time Zone. He passes through 4 toll booths with progressive fares into a gleaming modern but sparsely populated City center, New Greewich. He has cleaned himself up to dine at a nice restaurant, a young lady across the room takes notice. The waitress tells him to slow down, to blend in with the rich, and suggests a casino nearby.Meanwhile, Henry's body is discovered by the Timekeepers, a body of authority much like the police. Raymond Leon (Cillian Murphy) notices the street cameras and examines the footage. When he expresses surprise at seeing Will's photo, his colleagues ask him if he knew the suspect and whether or not he had a criminal record. Raymond corrects them, telling them he did not know the current Will Salas but he did know the senior Will Salas. Timekeepers are mobilized to locate Will Salas.At the casino, a tuxedoed Will meets Phillipe Weis (Vincent Kartheiser), arguably the richest man in the world. At a high stakes poker game, Will goes all in and comes out as victor, now with over 1000 years. Phillipe is impressed, as is Sylvia (Amanda Seyfried), his beautiful but sheltered daughter, the girl from the restaurant. Phillipe invites Will to his mansion for another party, and partially to see Sylvia again, Will agrees. Knowing to be prepared, he purchases a Jaguar E type and drives to the Weis mansion on the coast. There Phillipe reintroduces him to Sylvia, as well as his wife Michele (Bella Heathcote) and mother-in-law, all three of whom look the same age due to their wealthy background. The women are followed by guards all the time, but Will convinces Sylvia to let loose and have fun. Feeling oppressed by her father and his men, Sylvia agrees and the two go skinny dipping in the ocean. Sylvia admits wishing that she could often do something wild and crazy. Phillipe had always restricted his family members though, and sure enough he soon comes looking for her. Sylvia and Will manage to dress and make themselves presentable again when the Timekeepers appear and confront Will.Raymond arbitrarily takes back the 1000 years as they don't believe Will's story. Raymond hints he knew Will's father and leaves. Will fights off the other Timekeepers and takes Sylvia hostage, escaping out the mansion. Raymond commits himself to chasing them, even taking personal risks that other Timekeepers avoided. After a car chase, Will manages to throw Raymond off their trail and escapes back to the country with Sylvia, who pleads to be let go. As soon as they return to Dayton the car is wrecked in a trap set by the Minutemen. While Will and Sylvia remain unconscious, the Minutemen discover that Will only has a little time left and was thus worth nothing, Sylvia however had about a decade and so they take hers instead. The men are forced to run before they could take all her time, Sylvia panics because she has never been reduced to having so little time. Will tells her that she should not be worried, as regular people live day by day. Instead, he brings her to find Borel, hoping that he could give them some time. To his grief, he learns that Borel had drunk himself to death with his riches leaving his wife and newborn alone.Will manages to buy them more time by pawning off Sylvia's diamond earrings, but knows it isn't enough. He calls Phillipe and demands a 1000 year ransom for Sylvia's return, to be sent to the time welfare office. Raymond listens to the call and warns Will not to follow his father's path. Will learns that his father's crime was not stealing time but \"something much more serious\". Raymond, deduces where Will was hiding and assures Weis he would bring his daughter back safely. At Will's apartment he explains his father was an arm \"fighter\" with a trick to win time contests, he demonstrates that you let the other win at first, they get overconfident and distracted just as the last few seconds run down, then the arm can be flipped and the flow reversed.The next day the ransom is unpaid, Will says to Sylvia that it was likely because her father was prevented by the Timekeepers but Sylvia saw it as proof that her father didn't care about her. Nevertheless, Will decides to let her go and tells her to make a call to her family. Since they were in the ghetto after all, he also gives her a gun to protect herself. They kiss and just as they split so that Sylvia can make her call, Raymond appears and nearly shoots an unsuspecting Will. A panicked Sylvia shoots Raymond instead, and Will corners Raymond and attempts to take his time. Raymond however has very little, for it is Timekeeper practice to carry only a little time to avoid being targets. Since Will was planning to take Raymond's car he graciously transfers 4 hours of his own time to him before hijacking the black Challenger car and leaves him alone in the ghetto.Sylvia realizes that using a police car was essentially asking for attention. They end up robbing another limo and passenger, a blond woman dressed like a hooker. They learn that they had both been placed on a wanted poster with a reward of ten years to anyone who could bring about their arrest. Phillipe studies a large map of the world with colored lights and numbers, he assures his business partners that his daughter would not crash the current economic system. An injured Raymond manages to escape the ghetto, verbally harassed the whole time, and meets with Phillipe. Weis attempts to bribe Raymond into 'rescuing' his daughter but Raymond tells him that due to Sylvia's actions, an arrest warrant will be placed for her as well. If Phillipe interferred and tried to save his daughter, Raymond will see him arrested as well.Will trains Sylvia how to use a handgun, she offers to help him get time. Will and Sylvia drive an armoured car through a Weis bank window and scoop up many time cassettes. They invite the onlookers to grab what they can also. The large status board shows the imbalance. This endears them to most people in the ghetto. Weis watches the news report of the robbery as his wife chides him for suffocating them. In a motel the two get closer, then sense something is up and just manage to escape Ray and his squad. Ray alone takes after them over rooftops in a running gun battle, refusing to let them go. They manage to bribe a bus driver and escape.At a seedy hotel they rent the whole building for privacy. Fortis and his gang roust civilians until one admits where he saw the two runaways. In the hotel room the young couple describe how each went through the change at age 25 when the green numbers begin counting down. Fortis arrives and explains it is not just the rich and the Timekeepers oppressing the normal citizens, the Minutemen are being allowed to do so as long as they did not start preying on the rich as well. Fortis challenges Will to an arm fight to the death, as the two men lock arms together Will's time runs down fast. Will uses his trick to reverse the flow, then manages to pull a gun from his boot, kills the henchmen and times out Fortis. Will is dismayed and figures it will take a million years to change the system. Sylvia knows where they could find that time.Sylvia returns home, pretending to turn herself in, distracting her father and his multiple guards, so that Will could sneak up on him. Under gunpoint, they take Weis to his office and open a large vault where they find a single cassette with 1 million years. Phillipe tries to say it is always in an individual's interest to live forever even at the cost of another's, but the two runaways are unconvinced. After locking Phillipe in the office the two again return to Dayton. While keeping the Timekeepers distracted, they pass the one-million cassette to Maya, the little girl.Raymond pursues Will and Sylvia to a remote area running toward Livingstone, the next town over, just as they all begin to run out of time. Will sees that Ray is a Dayton homeboy, an honest cop just doing his job, but the timekeeper has forgot to get his per diem and dies in front of them as he times out. With only seconds to spare Will notices the police car in the distance, runs and manages to transfer the timekeeper's per diem from the centre console device to himself. He runs back to Sylvia and just manages to transfer some time, saving her life. The two of them only have enough for a day.The Daytons stop work and march toward New Greenwich. Watching the news, the Timekeepers decide that their jobs are finished. With 100 years bounty on them, pulling up in front of a large institution, Will and Sylvia draw their guns to make their biggest heist.\n",
            "Tags: ['suspenseful', 'boring', 'murder', 'mystery', 'thought-provoking', 'violence', 'flashback', 'revenge', 'sci-fi']\n",
            "--------------------------------------------------\n",
            "Candidate 705:\n",
            "Title: Timequest\n",
            "Plot: On the morning of November 22, 1963, a seventy-something man (Ralph Waite) who wears spacesuit-type clothing materializes in the hotel suite occupied by Jackie Kennedy (Caprice Benedetti). The Time Traveler shows Jackie future television footage of the assassination and funeral of John F. Kennedy (Victor Slezak). Shortly thereafter, the Time Traveler speaks to the president and to Attorney General Bobby Kennedy (Vince Grant), giving them details of their respective assassinations and of the public revelations of JFK's sex scandals. The Time Traveler, knowing Bobby's ways, won't state his name or his birthplace, but does mention that he was born on this day. The Time Traveler asks Jackie to dance with him; she does. (The Time Traveller is obsessed with Jackie Kennedy.) The Time Traveler and the three Kennedys drink a toast in the hotel suite just before 12:30 pm, which is the time that history is definitely changed (JFK is shot-JFK is not shot). At 12:30 the Time Traveler turns into nothingness, and the lead-crystal glass that he was holding, drops to the floor and shatters. Bobby finds a piece of glass with the Time Traveler's fingerprint on it. Lee Harvey Oswald (Jeffery Steiger) is captured, taken to Washington, and gives much info to the Warren Commission; as a result, the CIA is disbanded. Meanwhile, Bobby Kennedy is determined to uncover the Time Traveler's identity, but Jackie exacts an iron promise from Bobby that the Time Traveler-wouldbe will never be harmed. As it turns out, the Time Traveler-wouldbe is Raymond Mead (Joseph Murphy). At sixteen he commits a burglary, is arrested and put on a prison bus; his fingerprinting enables President Bobby Kennedy to know the Time Traveler's name. President Bobby has the teenager pulled off the bus, he talks to the kid, and he gives Mead a full pardon. Years later, when Mead has become an artist, an elderly Jackie buys many of his paintings. In 2001, after JFK dies of old age (and Jackie is already dead), youngest son James Robert Kennedy (Rick Gianasi) explains to Mead why the Kennedy family has been so generous to him.\n",
            "Tags: ['alternate history']\n",
            "--------------------------------------------------\n"
          ],
          "name": "stdout"
        }
      ]
    },
    {
      "cell_type": "code",
      "metadata": {
        "id": "5ld1FpQTR-MS",
        "colab_type": "code",
        "colab": {}
      },
      "source": [
        "my_plot_tfidf = tfidf(my_plot_tf, train_idf)"
      ],
      "execution_count": 0,
      "outputs": []
    },
    {
      "cell_type": "code",
      "metadata": {
        "id": "CTD7mNS9R-Md",
        "colab_type": "code",
        "outputId": "63c73749-7940-42c1-c10b-c87e8c7b28ab",
        "colab": {
          "base_uri": "https://localhost:8080/",
          "height": 564
        }
      },
      "source": [
        "print(\"Similar plots by TF-IDF:\\n\")\n",
        "print(\"Author's title:\", my_title)\n",
        "print(\"Author's plot:\", my_plot)\n",
        "print(\"-\" * 50)\n",
        "for idx in cosine_similarity(normalize(my_plot_tfidf)[0], train_tf_norm, k=3):\n",
        "    print(f'Candidate {idx}:')\n",
        "    title = train_set[idx].title\n",
        "    print('Title:', title)\n",
        "    plot = train_set[idx].synopsis_original\n",
        "    print('Plot:', plot)\n",
        "    tags = train_set[idx].tags\n",
        "    print('Tags:', tags)\n",
        "    print(\"-\" * 50)"
      ],
      "execution_count": 0,
      "outputs": [
        {
          "output_type": "stream",
          "text": [
            "Similar plots by TF-IDF:\n",
            "\n",
            "Author's title: The Last Meow\n",
            "Author's plot: It's been a long time since humans think they rule over the cats. \n",
            "They've been teasing and humiliating them for too long. \n",
            "Now, the time has come for the cat army to rise and destroy the humanity once and for all.\n",
            "--------------------------------------------------\n",
            "Candidate 414:\n",
            "Title: Neko no ongaeshi\n",
            "Plot: A young girl named Haru awakens to another day, where it seems she's a few steps behind everything. Rushing to school, she comes in late for class, to mocking laughter from her classmates, and even from one guy in her class whom she has a crush on.After school, walking home with her friend Hiromi, Haru curses her misfortune. As they walk down a busy street, they see a dark cat carrying a small box in his mouth. In the middle of the street, the cat drops it, and attempts to pick it up, unaware that a large truck is heading towards it! Haru grabs her friend's lacrosse stick, and running into the street, saves the cat, before collapsing into some bushes and breaking the lacrosse stick. Unseen by anyone but Haru, the cat then stands on it's hind legs, and thanks her for saving him. It then gets back on all fours, and rushes off. When Haru relates the incident to Hiromi, her friend can scarcely believe it either.Later that evenin, Haru tells her Mother about the incident. Her Mother explains that it sounds like something that happened when Haru was little. Supposedly, a dirty white kitten was following her as she ate fish crackers. Haru then took pity on the kitten, and gave her the whole box. Haru's Mother claims that Haru told her that the kitten talked to her, but Haru doesn't recall anything like that happening.Later that night, Haru hears something outside, and sees a procession of cats walking down the street. Then eventually stop outside Haru's house, and she comes outside. Among the procession are the Cat King, his Prime Minister Natori, and a servant cat named Natoru. Natori explains that the Cat King thanks Haru for saving his son, and she is presented with a scroll, that gives information about numerous gifts she will receive for her good deed.The next day, Haru wakes up, wondering if it was a dream. Her ponderings are soon put to rest when a number of things happen. Her friend Hiromi has awoken to find numerous lacrosse sticks outside her door. At Haru's place, cat tail plants surround their house, and as she heads to school, a number of cats chase after her (Haru surmises that she must have some catnip on her). At school, she is freaked out when she finds a number of individually-boxed mice in her shoe locker.Getting over the shock, she goes about the day, taking Hiromi's clean-up duty upon her request. While taking out the garbage, she sees the guy she has a crush on, walking by with his girlfriend. This distracts Haru and she trips and falls, feeling more miserable than the day before. Suddenly, she sees the King's assistant, Natoru, who becomes shocked when Haru yells at him regarding the 'gifts' she has received. Noting that she seems upset, Natoru offers to take her to the Cat Kingdom for a personal tour, and even tells her of the additional gift she will receive for her good deed: the chance to marry the Cat King's son, Prince Lune. This shocks Haru, who then starts to wonder if being among cats wouldn't be so bad, since they seem to have very few responsibilities. Natoru takes this as a 'yes' answer, and rushes off, leaving Haru distraught at the idea of her (a human girl) marrying a cat! As she panics, a disembodied voice tells her to find a white cat at the crossroads, who will lead her to the Cat Bureau.Haru goes to the specific location, where she finds a large white cat. The cat doesn't say a word, but she follows him through all sorts of little nooks and crannies, until he reaches a small embankment of shops that almost seem doll-like in size. Here, the large white cat gets up on his hind legs, and heads to a small storefront. As he does so, the setting sun catches on the windows surrounding them. The front door of the building opens, and a cat in a suit emerges, giving his name as Baron Humbert von Gikkingen, but Haru decides to just call him 'Baron.' Baron cites the large white cat as Muta, and as they talk, a stone statue comes to life, which Baron says is named Toto.Baron invites his guests into his home, where Haru explains about her predicament, and how a strange voice told her to seek out the Cat Bureau. The Baron decides that he and Muta will make a visit to the Cat Kingdom in regards to Haru's request for their help. However, the Baron requests that Haru never forget who she is, as this will be very important. As they speak, there is a knock at the front door. Haru answers it, only to find Natoru there, and a number of cats who carry Haru off, intending to take her to the Cat Kingdom. Muta manages to catch up with them, but Baron and Toto lose their trail.Haru wakes up in the Cat Kingdom, where she finds she has shrunk to the size of a cat. Looking around, she is met by a white cat named Yuki, who pleads with Haru to leave the Cat Kingdom at once. However, Natoru appears, and takes both Haru and Muta to the King's palace.Haru is taken to be dressed to meet the King, while Muta is escorted to a banquest hall, where he gorges on a number of foods. As Haru changes, she is then met by the King, who is overjoyed that she has chosen to marry his son. However, Haru explains her trepidations, since she is a human, and the Prince is a cat. The King and Natori smile, telling her that that is no longer a problem, since Haru is now half-cat. Haru looks in a nearby mirror, and is shocked to see that she has somehow turned into a cat! Running from the room, she finds Muta, stuck in a bowl of catnip jelly, unable to move.Even though Haru is still upset over being turned into a cat, she is taken to the main dining room, where the King attempts to cheer her up with a number of entertainment acts. When none seem to please Haru, he has the performers tossed out a nearby window. Suddenly, a masked strange comes forward, promising to cheer up Haru. As the band strikes up a waltz, Haru dances with the mysterious stranger, feeling more at ease being a cat. This feeling causes her to grow whiskers, which makes her gasp. The masked stranger then tells her not to forget who she really is, as he said so before. Suddenly, the Cat King calls for the music to stop, demanding to know who the stranger is. He removes his mask to reveal the Baron! The Cat King sends his troops to take down the Baron and retrieve Haru, but this quickly fails. In the ensuing scuffle, Muta is freed from the bowl of catnip jelly, and joins the battle.Off to one side, Yuki appears and hastens Baron and Haru to her. She explains that there is a way for Haru to regain her human form, and helps her and the Baron escape through a secret entrance, which leads to a maze outside the castle, of which a large tower extends from it's center. Yuki explains that if they can get to the top before a specific time, they will be able to return to their world.Muta then joins them, and they set out going through the maze. However, the King sends a number of troops, and tries to throw them off course. His plans fail, and Haru, Baron and Muta make it to the tower, climbing up it's outer stairway. Just when it seems they've made it halfway-up, the King detonates the tower, causing the mid-point to plummet to the bottom!Haru, Baron and Muta are then met by the King, though the reunion is short-lived when Prince Lune arrives, along with a contingency of soldiers. The King explains to the Prince about Haru, but the Prince explains that he wishes to marry Yuki. He then hands her the same box that Haru saw him with on the street. The box contains some fish crackers. Yuki then explains that they are just like the kind that Haru gave her when she was a kitten, and thanks her for helping her all those years ago.The King finds this very moving, but then tries to see if Haru will marry him instead. Haru angrily rejects his advances, and Muta happily proclaims that he admires her spirit.The King, not one to be spurned, still tries to claim Haru, but Muta and Lune's soldiers prevent him from advancing, and Haru heads up the nearby steps for the top of the tower. Baron also confronts the King, and wins in a duel against him, before hearing Haru cry out from the top of the tower...which leads to the other world, but whose opening is several hundred miles up in the sky! Muta and Baron rush to her aid, but not before she falls over the edge.They freefall towards Haru's hometown, when a flock of crows appears, courtesy of Toto. Haru makes it safely down, and they say their goodbyes, with Haru admitting that she has a bit of a crush on Baron, before he takes off.The next day, Haru's Mother awakes, and is shocked to see that Haru is up before her, having already prepared breakfast. Later on, Haru meets up with Hiromi, who happily tells her friend that the guy she has a crush on has broken up with his girlfriend. However, instead of being excited at this, Haru shows no concern, as this is now unimportant to her. It appears that her experience has allowed her to become more independent.\n",
            "Tags: ['romantic', 'flashback']\n",
            "--------------------------------------------------\n",
            "Candidate 50:\n",
            "Title: Cat's Eye\n",
            "Plot: The film consists of three stories linked together by a cat as he wanders from city to city, seeking out a little girl (Drew Barrymore) in order to save her from a supernatural danger. As a result of it's wanderings, the cat plays a minor role in the first two stories and a significant part in the third.\"Quitters Inc.\"In the first tale, set in and around New York City, the cat is captured by a man who works for a self-help firm called Quitters Inc, that aids people in quitting smoking. On a busy NY street, a man, Dick, is driven to an office building by a friend who tells him \"These guys'll change your life.\" At his first visit, his counselor, Vinnie Donatti, asks Dick for all his cigarettes and crushes them wildly on his desk. Dick tells him that this form of treatment leaves much to be desired, however, Donatti gets to the actual treatment. He opens a large set of curtains in the room, showing a white room containing a cat eating at a small bowl. Donatti flips a switch that sends a low charge of electricity into the floor of the room, causing the cat to jump around wildly. Donatti cuts the power after a few seconds and explains to Dick that the association of pain with eating may one day cause the cat to starve in front of it's dish. Donatti tells Dick that his treatment begins right away; there will be people watching him constantly, night and day. If Dick smokes one cigarette, he will be punished. Dick suggests that they will bring him in and give him the shock treatment. Donatti says it will not be Dick, but his wife that will be tortured in the room. Further treatments will be increased voltage and beatings of both him and his wife. If he's unable to give up smoking after 30 days, he will be killed.Dick goes home very troubled. Late at night, he sneaks into his home office and begins to light a cigarette when he hears a noise from the room's closet. Though he's not completely certain anyone is hiding in the closet, he still tells the person that he didn't actually light the cigarette. Dick is able to keep from smoking for several more days until he's stuck in traffic. He opens his glove compartment looking for some gum and finds an old pack of cigarettes. He ducks below the dashboard and lights up, waving the smoke off. When he looks over to his left, he sees one of Donatti's men drive off, smiling evilly. Dick races home and finds his wife gone. He gets a phone call from Donatti, who tells him to report to Quitters Inc. When he arrives, he sees his wife in the cat's room. He tries to free her by breaking the glass and Donatti's goon subdues him and makes him watch his wife being shocked. Dick is devastated and wonders how he'll explain everything to his wife. Donatti says he may be surprised at how his wife takes the news. His wife seems to understand that Dick has done this for her and for his mentally-impaired daughter, who lives at a special boarding school.Several months later, Dick receives another phone call from Donatti. Dick has been cigarette-free for that long but Donatti says they need to discuss another issue. Dick has gained a significant amount of weight, something that happens to the majority of Donatti's clients. He prescribes some illegal diet pills for Dick and tells him to use them wisely. If he's unable to control his weight, Donatti will send someone to Dick's house to cut off his wife's little finger. Some time after that last meeting, with Dick successful at keeping his weight down, he and his wife have dinner with the man who originally told Dick about Quitters Inc. The group makes a toast to Quitters Inc. Dick's friend's wife, however, is missing her little finger.\"The Ledge\"The second story opens in Atlantic City with a rich businessman, Cressner, betting on the same cat (which had escaped from Quitters Inc), seeing if it can cross a busy street safely. Though it causes a minor car crash, the cat makes it safely and Cressner decides to keep it for a pet.In another part of the city, a man, Johnny Norris, a tennis instructor, is beaten and kidnapped by two of Cressner's thugs. He's brought to Cressner's penthouse where Cressner tells him that he knows he's been having an affair with Cressner's wife. Cressner offers Norris several options: he can agree to indentured servitude to Cressner for several years and be free, but not see Cressner's wife again, or he can skirt the entire outside of the building on a ledge about five inches wide, about 300 feet above the ground. If he completes the entire circuit, he'll be free and he can have Cressner's wife. If Norris refuses both options, the police will be tipped off about a kilo of pure heroin Cressner's thugs have hidden in the trunk of Norris' car.Norris agrees to walk the ledge outside the building. Completing the entire circuit around the building takes him about three hours. Along the way, he encounters sheer winds at the corners and is constantly taunted by Cressner himself, who sneaks into the penthouse opposite his own and honks a horn in Norris' ear through an open window. After Norris battles a pigeon that pecks his ankle, nearly sending him plummeting to the street, he stops in the window well of another penthouse. When Cressner discovers him there, he uses a fire house to soak him and threatens to blast him over the side.Before Norris makes it back to the outdoor balcony of Cressner's penthouse, Cressner has his goon, Tony, bring in a bag of money and a small Styrofoam crate, telling Tony to \"put it on top of the money\" in the bag. When Norris finally makes it to Cressner's balcony, he climbs over the railing and is immediately grabbed by Tony, who takes him at gunpoint to his boss. Cressner says he'll honor the bargain and give Norris the money and his wife, however, when he kicks the bag, a severed head flies out... it is his wife's head. Cressner orders Tony to shoot Norris; as Tony takes aim, Cressner's cat trips him up and he loses his gun (the cat runs out the apartment's open door to freedom). Norris seizes it and shoots Tony, then holds Cressner hostage. Cressner pleads for his life, offering several million dollars. Norris refuses and makes a simple wager... the next scene shows Cressner on the same ledge he forced Norris to skirt. Cressner gets moving, making it around the first corner. However, when he reaches the side of the building where the pigeons roost, one begins pecking his ankle. Cressner kicks a bit too hard at the bird, loses his balance and falls to the street. On the ground, the cat silently witnesses his impact.\"The General\"The cat makes his way to a suburban town on a delivery truck in Wilmington, North Carolina. There, he is taken in by a young girl, Amanda (the same girl from the vision in the opening scene), who names him \"General.\" Amanda's mother immediately disapproves of her keeping the cat as a pet, saying that \"cats can steal a young girl's breath\" while they sleep. That night, the cat sleeps in Amanda's room. While the child sleeps, a hole opens up in a baseboard and a small, ugly troll emerges. He tries to climb up on Amanda's bed, but is startled by the cat and a short battle ensues, resulting in the troll's escape back into the hole it opened, which is immediately closed up. Amanda's parents, having heard the ruckus, burst into her room. Her mother immediately blames the cat for all the damage and assumes the cat was attacking her daughter. Amanda defends General, telling them about the troll. Naturally, they don't believe her, thinking she had a nightmare.The next day, while Amanda is at school, her mother lures General into a pet carrier and takes him to the pound, which leaves Amanda very upset after she gets home. At the pound, General is to be euthanized; Amanda's mother had told the staff there that the cat had attacked her daughter. One of the staff opens his cage and the cat escapes, running back to Amanda's house.In the girl's bedroom, the troll again emerges from the baseboard and places a small wedge under the door to keep intruders out. He crawls up to Amanda's bed, where she's fast asleep. He begins to use a form of magic that draws Amanda's breath from her mouth. Amanda quickly becomes distressed, finding it difficult to breath in her sleep. After a few moments, General finds his way in through the chimney shaft and immediately attacks the troll. They battle again throughout the room until the cat corners the troll on Amanda's small record player. General hits the button that starts the record, spinning the monster around. General then hits the switch that changes the rotation to 78 rpm; the troll is unable to hold on very long and is flung across the room into a fan, where it's mutilated, leaving behind a few recognizable body parts. Amanda's parents, who had been pounding on the door but unable to enter because of the doorstop wedged there, finally burst in. The mother is furious at seeing Amanda holding the cat, however, Amanda is able to defend General this time, pointing them toward the wrecked fan and the troll's remains. Her father sees one of the monster's arms, as well as it's tiny sword. They look at the weapon, bewildered. Amanda's mother makes her daughter promise she'll never talk about the troll outside of their family. Amanda slyly asks if the cat can stay and her mother allows it. Later that night the cat crawls into Amanda's parents bed where she's sleeping with them. She sees him & cuddles him.\n",
            "Tags: ['cult', 'entertaining', 'sadist']\n",
            "--------------------------------------------------\n",
            "Candidate 830:\n",
            "Title: To Catch a Thief\n",
            "Plot: John Robie (Cary Grant) is a retired infamous jewel thief or \"cat burglar\", nicknamed \"The Cat\", who now lives in a hilltop villa in the French Riviera growing grapes and flowers. The modus operandi of a recent series of robberies leads the police to believe that Robie is active again; they attempt to arrest him, but he gives them the slip.\n",
            "Robie visits a restaurant. The staff are his old gang from his French Resistance days, paroled based on patriotic war work as long as they keep clean. Bertani, Foussard, and the others blame Robie, because they are currently all under suspicion while the new Cat is active. Still, when the police arrive at Bertani's restaurant, Foussard's teenage daughter Danielle (Brigitte Auber), who has a crush on Robie, spirits him to safety.\n",
            "Robie can prove his innocence if he can catch the new Cat in the act. He enlists the aid of an insurance man, H. H. Hughson (John Williams), who reluctantly obtains a list of the most expensive jewelry owners currently on the Riviera. Widow Jessie Stevens (Jessie Royce Landis) and her daughter Frances (Grace Kelly) top the list. Robie strikes up a friendship with them. Jessie's delighted but Frances offers a pretense of modesty. When Robie and Frances run into Danielle at the beach, Robie keeps up the mask of being a wealthy American tourist, despite Danielle's jealous barbs about his interest in Frances.\n",
            "Frances sees through Robie's cover as an American industrialist. She seduces him, dangling before him her jewels, teases him with steamy tales of rooftop escapades, and offers herself as an accomplice who might share his crimes. Fireworks fill the night sky.\n",
            "The next morning, Jessie discovers her jewels are gone. Robie is accused by Frances of being merely a distraction so he could steal her mother's jewelry. The police are called, but Robie has disappeared.\n",
            "To catch the new Cat, Robie stakes out an estate at night. He struggles with an attacker, who loses his footing and tumbles over a cliff. It is Foussard, who dies in the fall. The police chief publicly announces that Foussard was the jewel thief, but, as Robie points out privately in the presence of the abashed Hughson, this would have been impossible because Foussard had a wooden leg, and could not climb on rooftops.\n",
            "Foussard's funeral is marred by Danielle's loud accusation that Robie is responsible for her father's death. Outside the graveyard, Frances apologizes to Robie and confesses her love. Robie needs to continue his search for the Cat. He asks Frances to arrange his attendance at the masquerade ball the coming weekend, when he believes the Cat will strike again.\n",
            "At the ball, Frances is resplendent in a gold gown, Robie unrecognizable behind the mask of a Moor. The police hover nearby. Upstairs, the cat burglar silently cleans out several jewel boxes. When Jessie asks the Moor to go get her \"heart pills\", Robie's voice tips off his identity to the authorities. Upon his return, the police wait out Frances and the Moor as they dance together all night. Finally, Frances and the Moor go to her room, and the mask is removed: it was Hughson, a switch to conceal Robie's exit.\n",
            "On the rooftop Robie lurks. His patience is finally rewarded when he is joined by another figure in black. But just as his pursuit begins, the police throw a spotlight on him and demand he halt. He flees as they shoot at him, but he manages to corner his foe with jewels in hand. Unmasked, his nemesis turns out to be Foussard's daughter, Danielle. She slips off the roof, but Robie grabs her hand before she can fall. He forces her to confess loudly to the police of the father-daughter involvement, and that Bertani was the ringleader of this gang.\n",
            "Robie speeds back to his villa, and Frances races after to convince him that she has a place in his life and home. He agrees, but looks less than thrilled when she says, \"Mother will love it up here.\"\n",
            "Tags: ['murder', 'atmospheric']\n",
            "--------------------------------------------------\n"
          ],
          "name": "stdout"
        }
      ]
    },
    {
      "cell_type": "code",
      "metadata": {
        "id": "Lf6O7TFoR-Mf",
        "colab_type": "code",
        "outputId": "97a8abde-e44f-4bc0-f27b-4020a0a07cf7",
        "colab": {
          "base_uri": "https://localhost:8080/",
          "height": 1000
        }
      },
      "source": [
        "my_plot_vector = model.infer_vector(plot_preprocessed)\n",
        "print(\"Similar plots by Doc2Vec:\\n\")\n",
        "print(\"Author's title:\", my_title)\n",
        "print(\"Author's plot:\", my_plot)\n",
        "print(\"-\" * 50)\n",
        "for idx in model.docvecs.most_similar([vector], topn=3):\n",
        "    idx = idx[0]\n",
        "    print(f'Candidate {idx}:')\n",
        "    title = train_set[idx].title\n",
        "    print('Title:', title)\n",
        "    plot = train_set[idx].synopsis_original\n",
        "    print('Plot:', plot)\n",
        "    tags = train_set[idx].tags\n",
        "    print('Tags:', tags)\n",
        "    print(\"-\" * 50)"
      ],
      "execution_count": 0,
      "outputs": [
        {
          "output_type": "stream",
          "text": [
            "Similar plots by Doc2Vec:\n",
            "\n",
            "Author's title: The Last Meow\n",
            "Author's plot: It's been a long time since humans think they rule over the cats. \n",
            "They've been teasing and humiliating them for too long. \n",
            "Now, the time has come for the cat army to rise and destroy the humanity once and for all.\n",
            "--------------------------------------------------\n",
            "Candidate 925:\n",
            "Title: The Duchess\n",
            "Plot: The movie explores the marriage, relationships, and passions of 18th century aristocrat Georgiana, Duchess of Devonshire. 17-year-old Georgiana (Kierra Knightly) is delighted to have excited the notice of the much older Duke of Devonshire (Ralph Fiennes), and marries him amid high personal and family expectations. Unfortunately for Georgiana, the Duke is an undemonstrative and tight-lipped man who is far more interested in his dogs than in getting to know his new wife. He does nothing to alleviate her wedding night fears, and does his husbandly duty with few words and a noticable lack of tenderness. He makes it clear at the outset to both Georgiana and her mother, Lady Spencer (Charlotte Rampling), that it is Georgiana's duty to bear him a male heir in short order.Georgiana becomes the center of a glittering social circle, attended not only by the British noble elite but also by the political figures of the time. She uses her beauty, wit, charm, and social connections to advance the Whig party -- especially the policies and ambitions of a young nobleman, Charles Grey (Dominic Cooper), with whom she socialized, and to whom she was attracted, before her marriage. She indulges her love of parties and gambling, to the apparent delight of her peers, who joke that Georgiana is adored by all of England, except her husband.Shortly after Georgiana marries the Duke, he has a young girl brought to live with him and Georgiana. Initially shocked by his admission that the child is his illegitimate daughter, Georgiana soon takes on the role of the child's mother. In the meantime, Georgiana gives birth to two daughters, but fails to provide the Duke with the expected male heir. The Duke continues to have affairs with other women.While \"taking the cure\" at Bath in the hopes of being able to conceive a boy, Georgiana befriends Bess Foster (Hayley Atwell), whose husband, Georgiana is appalled to learn, beats and even tortures Bess. Because Bess has left the marital home, the husband refuses to allow her to see their three young boys. At Georgiana's suggestion, the Duke invites Bess to live with the Duke and Duchess in Devonshire. Some time later, Georgiana discovers that the Duke and Bess have begun sleeping together. When Georgiana confronts Bess, Bess begs Georgiana to understand that she is in the affair only in order to have the Duke pressure her husband to release her sons to her. When Georgiana demands that the Duke remove Bess from the house, he refuses. Bess remains in the house, and her sons come to live with them. While Georgiana adores her children and is obviously a devoted and loving mother, she chaffs at the presence of the Duke's lover and her sons. She explores her attraction to Charles Grey, and finds that the attraction is mutual. She brings the situation to a head by proposing a \"deal\" to the Duke: she will not object to his continuing to have Bess live with them, if he will not object to her engaging in an affair with Grey. The Duke, not surprisingly, rejects the proposal, pointing out that he does not make \"deals,\" and that all of the power in the situation belongs to him. He upbraids Georgiana for failing in the two things that he demands of her: bearing him a male heir, and remaining loyal to him. She is outraged by his attitude and refusal to break off his affair, and flees from him. He chases her down and rapes her.After the rape, Georgiana appears at her social gatherings in a fog -- alcohol induced? -- until it is learned that she is pregnant. She delivers a boy. Having done her \"duty,\" Georgiana goes to Bath, where she finally consummates her passion for Grey. They live blissfully in Bath until the Duke arrives unexpectedly. He accuses of her of being indiscreet and demands that she drop Grey and return with him to Devonshire. He warns her that, if she does not, both she and Grey will be cut off entirely from their wealth and positions in society, Grey will lose his political position, and she will never see her children again. After the Duke leaves, Georgiana races back to Devonshire, realizing that she cannot live without her children.Bess and her children are still at Devonshire. Georgiana informs Bess and the Duke that she is pregnant with Grey's child. At the Duke's command, she moves to the countryside to await the birth. She delivers another girl, Eliza, and immediately is forced to give the baby up to Grey's family. Heartbroken, she returns to Devonshire, where she continues her social circle, but with none of the vivacity and verve for which she was known before. She remains at Devonshire with the Duke and Bess and their children, until her death. After her death, the viewer is told, the Duke marries Bess.\n",
            "Tags: ['romantic']\n",
            "--------------------------------------------------\n",
            "Candidate 203:\n",
            "Title: The Color Purple\n",
            "Plot: Celie is a poor, uneducated, 14-year-old girl living in the American South in the 1930s. She writes letters to God because her father, Alphonso, beats and rapes her. Alphonso has already impregnated Celie once, a pregnancy that resulted in the birth of a girl. Alphonso takes the baby girl away shortly after her birth. Celie has a second child, a boy, whom Alphonso also abducts. Celie's ailing mother dies after cursing Celie on her deathbed.\n",
            "Celie and her younger sister, 12-year-old Nettie, learn that a man identified only as Mister wants to marry Nettie. Alphonso refuses to let Nettie marry, instead arranging for Mister to marry Celie. Mister, needing someone to care for his children and keep his house, eventually accepts the offer. Mister and his children, whose mother was murdered by a jealous lover, all treat Celie badly. However, she eventually gets Mister's squalid living conditions and incorrigible children under control.\n",
            "Shortly thereafter, Nettie runs away from Alphonso and takes refuge at Celie's house, where Mister makes sexual advances toward her. Celie then advises Nettie to seek assistance from a well-dressed black woman that she had seen in the general store a while back; the woman had unknowingly adopted Celie's daughter and was the only black woman that Celie had ever seen with money of her own. Nettie is forced to leave after promising to write. Celie, however, never receives any letters and concludes that her sister is dead.\n",
            "Time passes and Mister's children begin to grow up and leave home. Harpo, Mister's son, falls in love with an assertive girl named Sofia, who becomes pregnant with Harpo's baby and, despite initial resistance from Mister, marries Harpo. Harpo and Sofia have five more children in short order.\n",
            "Celie is amazed by Sofia's defiant refusal to submit to Harpo's attempts to control her. Kinder and gentler than his father, Harpo feels emasculated due to his inability to get Sofia to \"mind.\" Celie advises Harpo not to try to dominate Sofia; she also tells Harpo that Sofia loves him, admitting that she, Celie, only obeys Mister out of fear. Harpo temporarily follows Celie's advice but falls back under Mister's sway. A momentarily jealous Celie then advises Harpo to beat Sofia. Sofia fights back, however, inflicting serious injuries on Harpo.\n",
            "After Sofia confronts her, Celie, who was already feeling guilty about what she had done, apologizes and confides in her about all the abuse she suffers at Mister's hands. She also begins to consider Sofia's advice about defending herself against further abuse from Mister.\n",
            "Glamorous Shug Avery, a jazz and blues singer and Mister's long-time mistress, falls ill, and Mister takes her into his house. Celie, who had been fascinated by photos of Shug she found in Mister's belongings, is thrilled to have her there. Mister's father expresses disapproval of the arrangement, reminding Mister that Shug has three out-of-wedlock children. Mister proudly states that he knows for certain that all the children have the same father, indirectly admitting to being their father. Mister's father leaves in disgust after drinking a glass of water into which Celie spit. While Shug is initially rude to Celie, who has taken charge of nursing her, the two women become friends, and Celie soon finds herself infatuated with Shug.\n",
            "Frustrated by Harpo's domineering behavior, Sofia moves out, taking her children with her. Several months later, Harpo opens a juke joint where a fully recovered Shug performs nightly. Shug decides to stay when she learns that Mister beats Celie when she is away. Shug and Celie's relationship grows more intimate.\n",
            "Sofia returns for a visit and promptly gets into a fight with Harpo's new girlfriend, Squeak, knocking Squeak's teeth out. In town one day, while Sofia is enjoying a day out with her new beau, a prizefighter, and their respective children, the mayor's wife, Miss Millie, approaches the group. She begins to \"finger\" Sofia's children (physically examine them in a way reminiscent of slaves on an auction block) without bothering, at first, to speak to their mother or ask permission. At first, Sofia silently endures. Miss Millie then looks up and addresses Sofia, remarking on how clean the children are and bluntly asks Sofia if she would like to be her maid. Sofia, who does not work as a maid, straightforwardly refuses saying \"Hell no.\" The mayor then pushes his wife aside, calling Sofia \"girl\" and daring her to repeat herself. When Sofia does so defiantly, the mayor slaps Sofia. Sofia responds by using her fist to knock the mayor, her assailant, onto the ground. The police quickly arrive at the scene and brutally beat Sofia as she pleads with the prizefighter not to intervene on her behalf and instead to take her children to safety. Sofia emerges from her ordeal with a cracked skull, broken ribs, her face rendered nearly unrecognizable, and blind in one eye. Sofia is subsequently sentenced to 12 years in jail.\n",
            "Squeak, a mixed-race woman and Sheriff Hodges' illegitimate niece, attempts to blackmail the sheriff into releasing Sofia, resulting in her being raped by the sheriff. Squeak cares for Sofia's children while she is incarcerated, and the two women develop a friendship. Sofia is eventually released and begins working for Miss Millie, which she detests.\n",
            "Despite being newly married to a person called Grady, Shug instigates a sexual relationship with Celie on her next visit. One night Shug asks Celie about her sister, and Shug helps Celie recover letters from Nettie that Mister has been hiding from her for decades.\n",
            "The letters indicate that Nettie befriended a missionary couple, Samuel and Corrine, the well-dressed woman that Celie saw in the store, whom Nettie eventually accompanied to Africa to do missionary work. Samuel and Corrine have unwittingly adopted Celie's son and daughter (by Celie's father), Adam and Olivia. Corrine, noticing that her adopted children resemble Nettie, wonders if Samuel fathered the children with her. Increasingly suspicious, Corrine tries to limit Nettie's role in her family.\n",
            "Through her letters, Nettie reveals that she has become disillusioned with her missionary work. Corrine becomes ill with a fever. Nettie asks Samuel to tell her how he adopted Olivia and Adam. Realizing that Adam and Olivia are Celie's children, Nettie then learns that Alphonso is her and Celie's stepfather. Their biological father was a store owner whom white men lynched because they resented his success. She also learns that their mother suffered a mental collapse after the death of her husband and that Alphonso exploited the situation in order to control their mother's considerable wealth.\n",
            "Nettie confesses to Samuel and Corrine that she is in fact their children's biological aunt. The gravely ill Corrine refuses to believe her until Nettie reminds her of her previous encounter with Celie in the store. Later, Corrine dies, finally having accepted Nettie's story. Meanwhile, Celie visits Alphonso, who confirms Nettie's story. Celie begins to lose some of her faith in God, which she confides to Shug, who explains to Celie her own unique religious philosophy.\n",
            "Celie, having had enough of her husband's abuse, decides to leave Mister along with Shug and Squeak, who is considering a singing career of her own. Celie puts a curse on Mister before leaving him for good.\n",
            "Celie settles in Tennessee and supports herself as a seamstress. She learns that Mister, suffering from a considerable decline in fortunes after Celie left him, has changed dramatically; he gives Celie permission to call him by his first name, Albert. Albert proposes that they marry \"in the spirit as well as in the flesh,\" but Celie declines.\n",
            "Alphonso dies, Celie inherits his land, and moves back into her childhood home. Around this time, Shug falls in love with Germaine, a member of her band, and the news thereof crushes Celie. Shug travels with Germaine, all the while writing postcards to Celie. Celie pledges to love Shug even if Shug does not love her back.\n",
            "Meanwhile, Nettie and Samuel marry and prepare to return to America. Before they leave, Adam marries Tashi, an African girl. Following an African tradition, Tashi undergoes the painful rituals of female circumcision and facial scarring. In solidarity, Adam undergoes the same facial scarring ritual.\n",
            "Just after Celie realizes that she is content in her life without Shug, Shug returns, having ended things with Germaine. The end of the novel has Nettie, Samuel, Olivia, Adam, and Tashi arriving at Celie's house. Nettie and Celie embrace, having not seen each other for over 30 years. They introduce one another to their respective families as the novel ends.\n",
            "Tags: ['romantic', 'melodrama']\n",
            "--------------------------------------------------\n",
            "Candidate 239:\n",
            "Title: Jane Eyre\n",
            "Plot: === Introduction ===\n",
            "The novel is a first-person narrative from the perspective of the title character. The novel's setting is somewhere in the north of England, late in the reign of George III (1760–1820). It goes through five distinct stages: Jane's childhood at Gateshead Hall, where she is emotionally and physically abused by her aunt and cousins; her education at Lowood School, where she gains friends and role models but suffers privations and oppression; her time as governess at Thornfield Hall, where she falls in love with her Byronic employer, Edward Rochester; her time with the Rivers family, during which her earnest but cold clergyman cousin, St. John Rivers, proposes to her; and her reunion with, and marriage to, her beloved Rochester. During these sections the novel provides perspectives on a number of important social issues and ideas, many of which are critical of the status quo (see the Themes section below). Literary critic Jerome Beaty opines that the close first person perspective leaves the reader \"too uncritically accepting of her worldview\", and often leads reading and conversation about the novel towards supporting Jane, regardless of how irregular her ideas or perspectives are.\n",
            "Jane Eyre is divided into 38 chapters, and most editions are at least 400 pages long. The original publication was in three volumes, comprising chapters 1 to 15, 16 to 27, and 28 to 38; this was a common publishing format during the 19th century (see three-volume novel).\n",
            "Brontë dedicated the novel's second edition to William Makepeace Thackeray.\n",
            "=== Jane's childhood ===\n",
            "The novel begins with the titular character, Jane Eyre, aged 10, living with her maternal uncle's family, the Reeds, as a result of her uncle's dying wish. It is several years after her parents died of typhus. Mr. Reed, Jane's uncle, was the only person in the Reed family who was ever kind to Jane. Jane's aunt, Sarah Reed, dislikes her, treats her as a burden, and discourages her children from associating with Jane. Mrs. Reed and her three children are abusive to Jane, physically, emotionally, and spiritually. The nursemaid Bessie proves to be Jane's only ally in the household, even though Bessie sometimes harshly scolds Jane. Excluded from the family activities, Jane is incredibly unhappy, with only a doll and books for comfort.\n",
            "One day, after her cousin John Reed knocks her down and she attempts to defend herself, Jane is locked in the red room where her uncle died; there, she faints from panic after she thinks she has seen his ghost. She is subsequently attended to by the kindly apothecary, Mr. Lloyd, to whom Jane reveals how unhappy she is living at Gateshead Hall. He recommends to Mrs. Reed that Jane should be sent to school, an idea Mrs. Reed happily supports. Mrs. Reed then enlists the aid of the harsh Mr. Brocklehurst, director of Lowood Institution, a charity school for girls. Mrs. Reed cautions Mr. Brocklehurst that Jane has a \"tendency for deceit\", which he interprets as her being a \"liar\". Before Jane leaves, however, she confronts Mrs. Reed and declares that she'll never call her \"aunt\" again, that Mrs. Reed and her daughter, Georgiana, are the ones who are deceitful, and that she shall tell everyone at Lowood how cruelly Mrs. Reed treated her.\n",
            "=== Lowood ===\n",
            "At Lowood Institution, a school for poor and orphaned girls, Jane soon finds that life is harsh, but she attempts to fit in and befriends an older girl, Helen Burns, who is able to accept her punishment philosophically. During a school inspection by Mr. Brocklehurst, Jane accidentally breaks her slate, thereby drawing attention to herself. He then stands her on a stool, brands her a liar, and shames her before the entire assembly. Jane is later comforted by her friend, Helen. Miss Temple, the caring superintendent, facilitates Jane's self-defence and writes to Mr. Lloyd, whose reply agrees with Jane's. Jane is then publicly cleared of Mr. Brocklehurst's accusations.\n",
            "The 80 pupils at Lowood are subjected to cold rooms, poor meals, and thin clothing. Many students fall ill when a typhus epidemic strikes, and Jane's friend Helen dies of consumption in her arms. When Mr. Brocklehurst's maltreatment of the students is discovered, several benefactors erect a new building and install a sympathetic management committee to moderate Mr. Brocklehurst's harsh rule. Conditions at the school then improve dramatically.\n",
            "The name Lowood symbolizes the \"low\" point in Jane's life where she was maltreated. Helen Burns is a representation of Charlotte's elder sister Maria, who died of tuberculosis after spending time at a school where the children were mistreated.\n",
            "=== Thornfield Hall ===\n",
            "After six years as a student and two as a teacher at Lowood, Jane decides to leave, like her friend and confidante Miss Temple, who recently married. She advertises her services as a governess and receives one reply, from Alice Fairfax, housekeeper at Thornfield Hall. Jane takes the position, teaching Adèle Varens, a young French girl.\n",
            "One night, while Jane is walking to a nearby town, a horseman passes her. The horse slips on ice and throws the rider. Despite the rider's surliness, Jane helps him to get back onto his horse. Later, back at Thornfield, she learns that this man is Edward Rochester, master of the house. Adèle is his ward, left in his care when her mother abandoned her.\n",
            "At Jane's first meeting with him within Thornfield, Mr. Rochester teases her, accusing her of bewitching his horse to make him fall. He also talks strangely in other ways, but Jane is able to give as good as she gets. Mr. Rochester and Jane soon come to enjoy each other's company, and spend many evenings together.\n",
            "Odd things start to happen at the house, such as a strange laugh, a mysterious fire in Mr. Rochester's room (from which Jane saves Rochester by rousing him and throwing water on him and the fire), and an attack on a house guest named Mr. Mason. Then Jane receives word that her aunt Mrs. Reed is calling for her, because she suffered a stroke after her son John died. Jane returns to Gateshead and remains there for a month, attending to her dying aunt. Mrs. Reed confesses to Jane that she wronged her, giving Jane a letter from Jane's paternal uncle, Mr. John Eyre, in which he asks for her to live with him and be his heir. Mrs. Reed admits to telling Mr. Eyre that Jane had died of fever at Lowood. Soon afterward, Mrs. Reed dies, and Jane helps her cousins after the funeral before returning to Thornfield.\n",
            "Back at Thornfield, Jane broods over Mr. Rochester's rumoured impending marriage to the beautiful and talented, but snobbish and heartless, Blanche Ingram. However, one midsummer evening, Rochester baits Jane by saying how much he will miss her after getting married, but how she will soon forget him. The normally self-controlled Jane reveals her feelings for him. Rochester is then sure that Jane is sincerely in love with him, and he proposes marriage. Jane is at first sceptical of his sincerity, but eventually believes him and gladly agrees to marry him. She then writes to her Uncle John, telling him of her happy news.\n",
            "As she prepares for her wedding, Jane's forebodings arise when a strange woman sneaks into her room one night and rips her wedding veil in two. As with the previous mysterious events, Mr. Rochester attributes the incident to Grace Poole, one of his servants. During the wedding ceremony, Mr. Mason and a lawyer declare that Mr. Rochester cannot marry because he is already married to Mr. Mason's sister, Bertha. Mr. Rochester admits this is true but explains that his father tricked him into the marriage for her money. Once they were united, he discovered that she was rapidly descending into madness, and so he eventually locked her away in Thornfield, hiring Grace Poole as a nurse to look after her. When Grace gets drunk, Rochester's wife escapes and causes the strange happenings at Thornfield.\n",
            "It turns out that Jane's uncle, Mr. John Eyre, is a friend of Mr. Mason's and was visited by him soon after Mr. Eyre received Jane's letter about her impending marriage. After the marriage ceremony is broken off, Mr. Rochester asks Jane to go with him to the south of France, and live with him as husband and wife, even though they cannot be married. Refusing to go against her principles, and despite her love for him, Jane leaves Thornfield in the middle of the night.\n",
            "=== Other employment ===\n",
            "Jane travels as far from Thornfield as she can using the little money she had previously saved. She accidentally leaves her bundle of possessions on the coach and has to sleep on the moor, and unsuccessfully attempts to trade her handkerchief and gloves for food. Exhausted and hungry, she eventually makes her way to the home of Diana and Mary Rivers, but is turned away by the housekeeper. She collapses on the doorstep, preparing for her death. St. John Rivers -- Diana and Mary's brother -- and a clergyman save her. After she regains her health, St. John finds Jane a teaching position at a nearby village school. Jane becomes good friends with the sisters, but St. John remains aloof.\n",
            "The sisters leave for governess jobs, and St. John becomes somewhat closer to Jane. St. John learns Jane's true identity and astounds her by telling her that her uncle, John Eyre, has died and left her his entire fortune of 20,000 pounds (equivalent to over £1.3 million in 2011). When Jane questions him further, St. John reveals that John Eyre is also his and his sisters' uncle. They had once hoped for a share of the inheritance but were left virtually nothing. Jane, overjoyed by finding that she has living and friendly family members, insists on sharing the money equally with her cousins, and Diana and Mary come back to live at Moor House.\n",
            "=== Proposals ===\n",
            "Thinking Jane will make a suitable missionary's wife, St. John asks her to marry him and to go with him to India, not out of love, but out of duty. Jane initially accepts going to India but rejects the marriage proposal, suggesting they travel as brother and sister. As soon as Jane's resolve against marriage to St. John begins to weaken, she mysteriously hears Mr. Rochester's voice calling her name. Jane then returns to Thornfield to find only blackened ruins. She learns that Mr. Rochester's wife set the house on fire and committed suicide by jumping from the roof. In his rescue attempts, Mr. Rochester lost a hand and his eyesight. Jane reunites with him, but he fears that she will be repulsed by his condition. \"Am I hideous, Jane?\", he asks. \"Very, sir: you always were, you know\", she replies. When Jane assures him of her love and tells him that she will never leave him, Mr. Rochester again proposes, and they are married. He eventually recovers enough sight to see their first-born son.\n",
            "Tags: ['insanity', 'cruelty', 'gothic', 'flashback']\n",
            "--------------------------------------------------\n"
          ],
          "name": "stdout"
        },
        {
          "output_type": "stream",
          "text": [
            "/usr/local/lib/python3.6/dist-packages/gensim/matutils.py:737: FutureWarning: Conversion of the second argument of issubdtype from `int` to `np.signedinteger` is deprecated. In future, it will be treated as `np.int64 == np.dtype(int).type`.\n",
            "  if np.issubdtype(vec.dtype, np.int):\n"
          ],
          "name": "stderr"
        }
      ]
    }
  ]
}
